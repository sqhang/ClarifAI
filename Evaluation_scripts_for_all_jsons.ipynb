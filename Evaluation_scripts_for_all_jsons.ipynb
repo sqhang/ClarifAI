{
  "nbformat": 4,
  "nbformat_minor": 0,
  "metadata": {
    "colab": {
      "provenance": [],
      "include_colab_link": true
    },
    "kernelspec": {
      "name": "python3",
      "display_name": "Python 3"
    },
    "language_info": {
      "name": "python"
    }
  },
  "cells": [
    {
      "cell_type": "markdown",
      "metadata": {
        "id": "view-in-github",
        "colab_type": "text"
      },
      "source": [
        "<a href=\"https://colab.research.google.com/github/sqhang/ClarifAI/blob/main/Evaluation_scripts_for_all_jsons.ipynb\" target=\"_parent\"><img src=\"https://colab.research.google.com/assets/colab-badge.svg\" alt=\"Open In Colab\"/></a>"
      ]
    },
    {
      "cell_type": "markdown",
      "source": [
        "# First you must upload all json files to this runtime from the following google drive folder: [click here](https://drive.google.com/drive/folders/13y3SDOsFPXfsIR3KN61LvUC_rUM7r7vA?usp=sharing) "
      ],
      "metadata": {
        "id": "GLNB4b8GNXdw"
      }
    },
    {
      "cell_type": "code",
      "source": [
        "!pip install evaluate"
      ],
      "metadata": {
        "id": "h9jSE7xuRPob",
        "colab": {
          "base_uri": "https://localhost:8080/"
        },
        "outputId": "1ea39bb5-f197-4f4b-d914-ebfd98b6cb90"
      },
      "execution_count": null,
      "outputs": [
        {
          "output_type": "stream",
          "name": "stdout",
          "text": [
            "Looking in indexes: https://pypi.org/simple, https://us-python.pkg.dev/colab-wheels/public/simple/\n",
            "Collecting datasets\n",
            "  Downloading datasets-2.11.0-py3-none-any.whl (468 kB)\n",
            "\u001b[2K     \u001b[90m━━━━━━━━━━━━━━━━━━━━━━━━━━━━━━━━━━━━━━\u001b[0m \u001b[32m468.7/468.7 kB\u001b[0m \u001b[31m19.1 MB/s\u001b[0m eta \u001b[36m0:00:00\u001b[0m\n",
            "\u001b[?25hCollecting xxhash\n",
            "  Downloading xxhash-3.2.0-cp310-cp310-manylinux_2_17_x86_64.manylinux2014_x86_64.whl (212 kB)\n",
            "\u001b[2K     \u001b[90m━━━━━━━━━━━━━━━━━━━━━━━━━━━━━━━━━━━━━━━\u001b[0m \u001b[32m212.5/212.5 kB\u001b[0m \u001b[31m6.8 MB/s\u001b[0m eta \u001b[36m0:00:00\u001b[0m\n",
            "\u001b[?25hCollecting aiohttp\n",
            "  Downloading aiohttp-3.8.4-cp310-cp310-manylinux_2_17_x86_64.manylinux2014_x86_64.whl (1.0 MB)\n",
            "\u001b[2K     \u001b[90m━━━━━━━━━━━━━━━━━━━━━━━━━━━━━━━━━━━━━━━━\u001b[0m \u001b[32m1.0/1.0 MB\u001b[0m \u001b[31m10.5 MB/s\u001b[0m eta \u001b[36m0:00:00\u001b[0m\n",
            "\u001b[?25hRequirement already satisfied: packaging in /usr/local/lib/python3.10/dist-packages (from datasets) (23.1)\n",
            "Collecting huggingface-hub<1.0.0,>=0.11.0\n",
            "  Downloading huggingface_hub-0.14.1-py3-none-any.whl (224 kB)\n",
            "\u001b[2K     \u001b[90m━━━━━━━━━━━━━━━━━━━━━━━━━━━━━━━━━━━━━━━\u001b[0m \u001b[32m224.5/224.5 kB\u001b[0m \u001b[31m5.0 MB/s\u001b[0m eta \u001b[36m0:00:00\u001b[0m\n",
            "\u001b[?25hRequirement already satisfied: numpy>=1.17 in /usr/local/lib/python3.10/dist-packages (from datasets) (1.22.4)\n",
            "Collecting multiprocess\n",
            "  Downloading multiprocess-0.70.14-py310-none-any.whl (134 kB)\n",
            "\u001b[2K     \u001b[90m━━━━━━━━━━━━━━━━━━━━━━━━━━━━━━━━━━━━━━━\u001b[0m \u001b[32m134.3/134.3 kB\u001b[0m \u001b[31m6.0 MB/s\u001b[0m eta \u001b[36m0:00:00\u001b[0m\n",
            "\u001b[?25hRequirement already satisfied: fsspec[http]>=2021.11.1 in /usr/local/lib/python3.10/dist-packages (from datasets) (2023.4.0)\n",
            "Requirement already satisfied: pyarrow>=8.0.0 in /usr/local/lib/python3.10/dist-packages (from datasets) (9.0.0)\n",
            "Requirement already satisfied: pyyaml>=5.1 in /usr/local/lib/python3.10/dist-packages (from datasets) (6.0)\n",
            "Requirement already satisfied: tqdm>=4.62.1 in /usr/local/lib/python3.10/dist-packages (from datasets) (4.65.0)\n",
            "Requirement already satisfied: requests>=2.19.0 in /usr/local/lib/python3.10/dist-packages (from datasets) (2.27.1)\n",
            "Collecting responses<0.19\n",
            "  Downloading responses-0.18.0-py3-none-any.whl (38 kB)\n",
            "Collecting dill<0.3.7,>=0.3.0\n",
            "  Downloading dill-0.3.6-py3-none-any.whl (110 kB)\n",
            "\u001b[2K     \u001b[90m━━━━━━━━━━━━━━━━━━━━━━━━━━━━━━━━━━━━━━━\u001b[0m \u001b[32m110.5/110.5 kB\u001b[0m \u001b[31m3.6 MB/s\u001b[0m eta \u001b[36m0:00:00\u001b[0m\n",
            "\u001b[?25hRequirement already satisfied: pandas in /usr/local/lib/python3.10/dist-packages (from datasets) (1.5.3)\n",
            "Collecting async-timeout<5.0,>=4.0.0a3\n",
            "  Downloading async_timeout-4.0.2-py3-none-any.whl (5.8 kB)\n",
            "Collecting multidict<7.0,>=4.5\n",
            "  Downloading multidict-6.0.4-cp310-cp310-manylinux_2_17_x86_64.manylinux2014_x86_64.whl (114 kB)\n",
            "\u001b[2K     \u001b[90m━━━━━━━━━━━━━━━━━━━━━━━━━━━━━━━━━━━━━━━\u001b[0m \u001b[32m114.5/114.5 kB\u001b[0m \u001b[31m4.0 MB/s\u001b[0m eta \u001b[36m0:00:00\u001b[0m\n",
            "\u001b[?25hCollecting yarl<2.0,>=1.0\n",
            "  Downloading yarl-1.9.2-cp310-cp310-manylinux_2_17_x86_64.manylinux2014_x86_64.whl (268 kB)\n",
            "\u001b[2K     \u001b[90m━━━━━━━━━━━━━━━━━━━━━━━━━━━━━━━━━━━━━━━\u001b[0m \u001b[32m268.8/268.8 kB\u001b[0m \u001b[31m9.9 MB/s\u001b[0m eta \u001b[36m0:00:00\u001b[0m\n",
            "\u001b[?25hCollecting aiosignal>=1.1.2\n",
            "  Downloading aiosignal-1.3.1-py3-none-any.whl (7.6 kB)\n",
            "Requirement already satisfied: charset-normalizer<4.0,>=2.0 in /usr/local/lib/python3.10/dist-packages (from aiohttp->datasets) (2.0.12)\n",
            "Collecting frozenlist>=1.1.1\n",
            "  Downloading frozenlist-1.3.3-cp310-cp310-manylinux_2_5_x86_64.manylinux1_x86_64.manylinux_2_17_x86_64.manylinux2014_x86_64.whl (149 kB)\n",
            "\u001b[2K     \u001b[90m━━━━━━━━━━━━━━━━━━━━━━━━━━━━━━━━━━━━━━━\u001b[0m \u001b[32m149.6/149.6 kB\u001b[0m \u001b[31m9.5 MB/s\u001b[0m eta \u001b[36m0:00:00\u001b[0m\n",
            "\u001b[?25hRequirement already satisfied: attrs>=17.3.0 in /usr/local/lib/python3.10/dist-packages (from aiohttp->datasets) (23.1.0)\n",
            "Requirement already satisfied: typing-extensions>=3.7.4.3 in /usr/local/lib/python3.10/dist-packages (from huggingface-hub<1.0.0,>=0.11.0->datasets) (4.5.0)\n",
            "Requirement already satisfied: filelock in /usr/local/lib/python3.10/dist-packages (from huggingface-hub<1.0.0,>=0.11.0->datasets) (3.12.0)\n",
            "Requirement already satisfied: certifi>=2017.4.17 in /usr/local/lib/python3.10/dist-packages (from requests>=2.19.0->datasets) (2022.12.7)\n",
            "Requirement already satisfied: idna<4,>=2.5 in /usr/local/lib/python3.10/dist-packages (from requests>=2.19.0->datasets) (3.4)\n",
            "Requirement already satisfied: urllib3<1.27,>=1.21.1 in /usr/local/lib/python3.10/dist-packages (from requests>=2.19.0->datasets) (1.26.15)\n",
            "Requirement already satisfied: pytz>=2020.1 in /usr/local/lib/python3.10/dist-packages (from pandas->datasets) (2022.7.1)\n",
            "Requirement already satisfied: python-dateutil>=2.8.1 in /usr/local/lib/python3.10/dist-packages (from pandas->datasets) (2.8.2)\n",
            "Requirement already satisfied: six>=1.5 in /usr/local/lib/python3.10/dist-packages (from python-dateutil>=2.8.1->pandas->datasets) (1.16.0)\n",
            "Installing collected packages: xxhash, multidict, frozenlist, dill, async-timeout, yarl, responses, multiprocess, huggingface-hub, aiosignal, aiohttp, datasets\n",
            "Successfully installed aiohttp-3.8.4 aiosignal-1.3.1 async-timeout-4.0.2 datasets-2.11.0 dill-0.3.6 frozenlist-1.3.3 huggingface-hub-0.14.1 multidict-6.0.4 multiprocess-0.70.14 responses-0.18.0 xxhash-3.2.0 yarl-1.9.2\n",
            "Looking in indexes: https://pypi.org/simple, https://us-python.pkg.dev/colab-wheels/public/simple/\n",
            "Collecting evaluate\n",
            "  Downloading evaluate-0.4.0-py3-none-any.whl (81 kB)\n",
            "\u001b[2K     \u001b[90m━━━━━━━━━━━━━━━━━━━━━━━━━━━━━━━━━━━━━━━━\u001b[0m \u001b[32m81.4/81.4 kB\u001b[0m \u001b[31m4.1 MB/s\u001b[0m eta \u001b[36m0:00:00\u001b[0m\n",
            "\u001b[?25hRequirement already satisfied: dill in /usr/local/lib/python3.10/dist-packages (from evaluate) (0.3.6)\n",
            "Requirement already satisfied: packaging in /usr/local/lib/python3.10/dist-packages (from evaluate) (23.1)\n",
            "Requirement already satisfied: numpy>=1.17 in /usr/local/lib/python3.10/dist-packages (from evaluate) (1.22.4)\n",
            "Requirement already satisfied: multiprocess in /usr/local/lib/python3.10/dist-packages (from evaluate) (0.70.14)\n",
            "Requirement already satisfied: xxhash in /usr/local/lib/python3.10/dist-packages (from evaluate) (3.2.0)\n",
            "Requirement already satisfied: huggingface-hub>=0.7.0 in /usr/local/lib/python3.10/dist-packages (from evaluate) (0.14.1)\n",
            "Requirement already satisfied: responses<0.19 in /usr/local/lib/python3.10/dist-packages (from evaluate) (0.18.0)\n",
            "Requirement already satisfied: pandas in /usr/local/lib/python3.10/dist-packages (from evaluate) (1.5.3)\n",
            "Requirement already satisfied: requests>=2.19.0 in /usr/local/lib/python3.10/dist-packages (from evaluate) (2.27.1)\n",
            "Requirement already satisfied: fsspec[http]>=2021.05.0 in /usr/local/lib/python3.10/dist-packages (from evaluate) (2023.4.0)\n",
            "Requirement already satisfied: datasets>=2.0.0 in /usr/local/lib/python3.10/dist-packages (from evaluate) (2.11.0)\n",
            "Requirement already satisfied: tqdm>=4.62.1 in /usr/local/lib/python3.10/dist-packages (from evaluate) (4.65.0)\n",
            "Requirement already satisfied: pyarrow>=8.0.0 in /usr/local/lib/python3.10/dist-packages (from datasets>=2.0.0->evaluate) (9.0.0)\n",
            "Requirement already satisfied: pyyaml>=5.1 in /usr/local/lib/python3.10/dist-packages (from datasets>=2.0.0->evaluate) (6.0)\n",
            "Requirement already satisfied: aiohttp in /usr/local/lib/python3.10/dist-packages (from datasets>=2.0.0->evaluate) (3.8.4)\n",
            "Requirement already satisfied: filelock in /usr/local/lib/python3.10/dist-packages (from huggingface-hub>=0.7.0->evaluate) (3.12.0)\n",
            "Requirement already satisfied: typing-extensions>=3.7.4.3 in /usr/local/lib/python3.10/dist-packages (from huggingface-hub>=0.7.0->evaluate) (4.5.0)\n",
            "Requirement already satisfied: charset-normalizer~=2.0.0 in /usr/local/lib/python3.10/dist-packages (from requests>=2.19.0->evaluate) (2.0.12)\n",
            "Requirement already satisfied: idna<4,>=2.5 in /usr/local/lib/python3.10/dist-packages (from requests>=2.19.0->evaluate) (3.4)\n",
            "Requirement already satisfied: urllib3<1.27,>=1.21.1 in /usr/local/lib/python3.10/dist-packages (from requests>=2.19.0->evaluate) (1.26.15)\n",
            "Requirement already satisfied: certifi>=2017.4.17 in /usr/local/lib/python3.10/dist-packages (from requests>=2.19.0->evaluate) (2022.12.7)\n",
            "Requirement already satisfied: pytz>=2020.1 in /usr/local/lib/python3.10/dist-packages (from pandas->evaluate) (2022.7.1)\n",
            "Requirement already satisfied: python-dateutil>=2.8.1 in /usr/local/lib/python3.10/dist-packages (from pandas->evaluate) (2.8.2)\n",
            "Requirement already satisfied: aiosignal>=1.1.2 in /usr/local/lib/python3.10/dist-packages (from aiohttp->datasets>=2.0.0->evaluate) (1.3.1)\n",
            "Requirement already satisfied: yarl<2.0,>=1.0 in /usr/local/lib/python3.10/dist-packages (from aiohttp->datasets>=2.0.0->evaluate) (1.9.2)\n",
            "Requirement already satisfied: attrs>=17.3.0 in /usr/local/lib/python3.10/dist-packages (from aiohttp->datasets>=2.0.0->evaluate) (23.1.0)\n",
            "Requirement already satisfied: frozenlist>=1.1.1 in /usr/local/lib/python3.10/dist-packages (from aiohttp->datasets>=2.0.0->evaluate) (1.3.3)\n",
            "Requirement already satisfied: multidict<7.0,>=4.5 in /usr/local/lib/python3.10/dist-packages (from aiohttp->datasets>=2.0.0->evaluate) (6.0.4)\n",
            "Requirement already satisfied: async-timeout<5.0,>=4.0.0a3 in /usr/local/lib/python3.10/dist-packages (from aiohttp->datasets>=2.0.0->evaluate) (4.0.2)\n",
            "Requirement already satisfied: six>=1.5 in /usr/local/lib/python3.10/dist-packages (from python-dateutil>=2.8.1->pandas->evaluate) (1.16.0)\n",
            "Installing collected packages: evaluate\n",
            "Successfully installed evaluate-0.4.0\n"
          ]
        }
      ]
    },
    {
      "cell_type": "code",
      "source": [
        "# Load a validation dataset with reference answers.\n",
        "!wget https://rajpurkar.github.io/SQuAD-explorer/dataset/dev-v1.1.json"
      ],
      "metadata": {
        "id": "gy9YGPLfOwh5",
        "colab": {
          "base_uri": "https://localhost:8080/"
        },
        "outputId": "7f712fd4-4033-4404-a528-237cbc5eae77"
      },
      "execution_count": null,
      "outputs": [
        {
          "output_type": "stream",
          "name": "stdout",
          "text": [
            "--2023-04-27 22:43:56--  https://rajpurkar.github.io/SQuAD-explorer/dataset/dev-v1.1.json\n",
            "Resolving rajpurkar.github.io (rajpurkar.github.io)... 185.199.108.153, 185.199.111.153, 185.199.109.153, ...\n",
            "Connecting to rajpurkar.github.io (rajpurkar.github.io)|185.199.108.153|:443... connected.\n",
            "HTTP request sent, awaiting response... 200 OK\n",
            "Length: 4854279 (4.6M) [application/json]\n",
            "Saving to: ‘dev-v1.1.json.1’\n",
            "\n",
            "\rdev-v1.1.json.1       0%[                    ]       0  --.-KB/s               \rdev-v1.1.json.1     100%[===================>]   4.63M  --.-KB/s    in 0.02s   \n",
            "\n",
            "2023-04-27 22:43:56 (187 MB/s) - ‘dev-v1.1.json.1’ saved [4854279/4854279]\n",
            "\n"
          ]
        }
      ]
    },
    {
      "cell_type": "code",
      "source": [
        "import json\n",
        "\n",
        "with open(\"dev-v1.1.json\", \"r\") as file:\n",
        "    dev_json = json.load(file)"
      ],
      "metadata": {
        "id": "L5Hkze6mOHqF"
      },
      "execution_count": null,
      "outputs": []
    },
    {
      "cell_type": "code",
      "source": [
        "dev_json[\"data\"][1][\"title\"]"
      ],
      "metadata": {
        "colab": {
          "base_uri": "https://localhost:8080/",
          "height": 37
        },
        "id": "qMhCVVCDONLc",
        "outputId": "96147d3a-7a85-4ce2-8224-333ef19847ad"
      },
      "execution_count": null,
      "outputs": [
        {
          "output_type": "execute_result",
          "data": {
            "text/plain": [
              "'Warsaw'"
            ],
            "application/vnd.google.colaboratory.intrinsic+json": {
              "type": "string"
            }
          },
          "metadata": {},
          "execution_count": 43
        }
      ]
    },
    {
      "cell_type": "code",
      "source": [
        "with open(\"ref_answers.json\", \"r\") as file:\n",
        "    ref_answers = json.load(file)"
      ],
      "metadata": {
        "id": "hS-aM0Zd_Q0D"
      },
      "execution_count": null,
      "outputs": []
    },
    {
      "cell_type": "code",
      "source": [
        "ref_answers[5][1]"
      ],
      "metadata": {
        "colab": {
          "base_uri": "https://localhost:8080/"
        },
        "id": "9_6IlgLJ_ZQj",
        "outputId": "0438b9ce-ab28-402f-f174-44f1d3c777a8"
      },
      "execution_count": null,
      "outputs": [
        {
          "output_type": "execute_result",
          "data": {
            "text/plain": [
              "[{'answer_start': 32, 'text': 'cultures'},\n",
              " {'answer_start': 91, 'text': 'numeracy'},\n",
              " {'answer_start': 101, 'text': 'craftsmanship'},\n",
              " {'answer_start': 187, 'text': 'life skills'}]"
            ]
          },
          "metadata": {},
          "execution_count": 50
        }
      ]
    },
    {
      "cell_type": "code",
      "source": [
        "with open(\"gpt4_replies_with_4khz_context.json\", \"r\") as file:\n",
        "    data = json.load(file)"
      ],
      "metadata": {
        "id": "n6oQ2SSh--Ad"
      },
      "execution_count": null,
      "outputs": []
    },
    {
      "cell_type": "code",
      "source": [
        "data[4][1]"
      ],
      "metadata": {
        "colab": {
          "base_uri": "https://localhost:8080/"
        },
        "id": "O_dvEPHx_C37",
        "outputId": "44687597-d402-4797-fb98-a29ddb731fb8"
      },
      "execution_count": null,
      "outputs": [
        {
          "output_type": "execute_result",
          "data": {
            "text/plain": [
              "['Culture', 'Numeracy', 'Craftsmanship', 'Life skills']"
            ]
          },
          "metadata": {},
          "execution_count": 51
        }
      ]
    },
    {
      "cell_type": "code",
      "source": [
        "from evaluate import load\n",
        "\n",
        "# This is the evaluation script foar all datasets.\n",
        "def compute_scores(json_name, dev_json):\n",
        "  with open(json_name, \"r\") as file:\n",
        "    context_4khz_answers = json.load(file)\n",
        "\n",
        "  squad_metric = load(\"squad\")\n",
        "  article_stats = []\n",
        "  for art_idx in range(len(context_4khz_answers)):\n",
        "    par_stats = []\n",
        "    for par_idx in range(len(context_4khz_answers[art_idx])):\n",
        "      idx = f\"{art_idx}_{par_idx}\"\n",
        "      predictions = []\n",
        "      references = []\n",
        "      for ans_idx in range(len(context_4khz_answers[art_idx][par_idx])):\n",
        "        ref_qas = dev_json[\"data\"][art_idx + 1][\"paragraphs\"][par_idx][\"qas\"][ans_idx]\n",
        "        id = ref_qas[\"id\"]\n",
        "        references.append({'answers': ref_qas[\"answers\"], 'id': id})\n",
        "        predictions.append({'prediction_text': context_4khz_answers[art_idx][par_idx][ans_idx], 'id': id})\n",
        "      results = squad_metric.compute(predictions=predictions, references=references)\n",
        "      par_stats.append(results)\n",
        "    print(f\"Article {art_idx + 1} par stats: {par_stats}\")\n",
        "    article_em = sum(elem[\"exact_match\"] for elem in par_stats)/len(par_stats)\n",
        "    article_f1 = sum(elem[\"f1\"] for elem in par_stats)/len(par_stats)\n",
        "    article_stats.append({\"exact_match\": article_em, \"f1\": article_f1})\n",
        "  total_em = sum(elem[\"exact_match\"] for elem in article_stats)/len(article_stats)\n",
        "  total_f1 = sum(elem[\"f1\"] for elem in article_stats)/len(article_stats)\n",
        "  print(f\"Total EM = {total_em}; Total F1 = {total_f1}\")\n",
        "  print(\"Article Stats:\")\n",
        "  for art_idx in range(len(article_stats)):\n",
        "    em = article_stats[art_idx][\"exact_match\"]\n",
        "    f1 = article_stats[art_idx][\"f1\"]\n",
        "    print(f\"article #{art_idx + 1}: EM = {em}; F1 = {f1}\")"
      ],
      "metadata": {
        "id": "RUIuNxzF05XF"
      },
      "execution_count": null,
      "outputs": []
    },
    {
      "cell_type": "code",
      "source": [
        "# Compute scores for gpt4 for (1-3) and gpt3.5 for (3-5) with reference context.\n",
        "compute_scores(\"gpt4_replies_with_ref_context.json\", dev_json)"
      ],
      "metadata": {
        "colab": {
          "base_uri": "https://localhost:8080/"
        },
        "id": "NAMs9apA2Fxt",
        "outputId": "4b1139c8-edaf-40f4-e894-dcba8f3e837a"
      },
      "execution_count": null,
      "outputs": [
        {
          "output_type": "stream",
          "name": "stdout",
          "text": [
            "Article 1 par stats: [{'exact_match': 100.0, 'f1': 100.0}, {'exact_match': 80.0, 'f1': 93.33333333333333}, {'exact_match': 80.0, 'f1': 93.33333333333333}, {'exact_match': 100.0, 'f1': 100.0}, {'exact_match': 100.0, 'f1': 100.0}, {'exact_match': 80.0, 'f1': 80.0}, {'exact_match': 50.0, 'f1': 78.82352941176471}, {'exact_match': 60.0, 'f1': 91.11111111111111}, {'exact_match': 60.0, 'f1': 70.0}, {'exact_match': 60.0, 'f1': 77.14285714285714}, {'exact_match': 60.0, 'f1': 83.33333333333334}, {'exact_match': 80.0, 'f1': 93.33333333333333}, {'exact_match': 60.0, 'f1': 89.33333333333334}, {'exact_match': 100.0, 'f1': 100.0}, {'exact_match': 100.0, 'f1': 100.0}, {'exact_match': 80.0, 'f1': 93.33333333333333}, {'exact_match': 100.0, 'f1': 100.0}, {'exact_match': 80.0, 'f1': 93.33333333333333}, {'exact_match': 100.0, 'f1': 100.0}, {'exact_match': 60.0, 'f1': 92.53333333333333}, {'exact_match': 60.0, 'f1': 89.33333333333334}, {'exact_match': 80.0, 'f1': 84.44444444444444}, {'exact_match': 80.0, 'f1': 93.33333333333333}, {'exact_match': 80.0, 'f1': 89.23076923076924}, {'exact_match': 100.0, 'f1': 100.0}, {'exact_match': 100.0, 'f1': 100.0}, {'exact_match': 80.0, 'f1': 93.33333333333333}, {'exact_match': 100.0, 'f1': 100.0}, {'exact_match': 40.0, 'f1': 78.47619047619047}, {'exact_match': 80.0, 'f1': 90.9090909090909}, {'exact_match': 40.0, 'f1': 79.99999999999999}, {'exact_match': 80.0, 'f1': 90.0}, {'exact_match': 40.0, 'f1': 77.87878787878788}, {'exact_match': 100.0, 'f1': 100.0}, {'exact_match': 40.0, 'f1': 82.66666666666666}, {'exact_match': 60.0, 'f1': 86.66666666666666}, {'exact_match': 40.0, 'f1': 82.66666666666667}, {'exact_match': 100.0, 'f1': 100.0}, {'exact_match': 80.0, 'f1': 93.33333333333333}, {'exact_match': 80.0, 'f1': 83.42857142857143}, {'exact_match': 80.0, 'f1': 91.76470588235294}, {'exact_match': 80.0, 'f1': 85.71428571428571}, {'exact_match': 66.66666666666667, 'f1': 88.88888888888887}, {'exact_match': 80.0, 'f1': 93.33333333333333}, {'exact_match': 100.0, 'f1': 100.0}, {'exact_match': 100.0, 'f1': 100.0}, {'exact_match': 60.0, 'f1': 91.11111111111111}, {'exact_match': 80.0, 'f1': 93.33333333333333}, {'exact_match': 60.0, 'f1': 82.66666666666667}]\n",
            "Article 2 par stats: [{'exact_match': 100.0, 'f1': 100.0}, {'exact_match': 66.66666666666667, 'f1': 88.88888888888887}, {'exact_match': 100.0, 'f1': 100.0}, {'exact_match': 33.333333333333336, 'f1': 77.77777777777777}, {'exact_match': 100.0, 'f1': 100.0}, {'exact_match': 0.0, 'f1': 58.33333333333333}, {'exact_match': 100.0, 'f1': 100.0}, {'exact_match': 100.0, 'f1': 100.0}, {'exact_match': 100.0, 'f1': 100.0}, {'exact_match': 100.0, 'f1': 100.0}, {'exact_match': 66.66666666666667, 'f1': 88.88888888888887}, {'exact_match': 100.0, 'f1': 100.0}, {'exact_match': 66.66666666666667, 'f1': 88.88888888888887}, {'exact_match': 100.0, 'f1': 100.0}, {'exact_match': 100.0, 'f1': 100.0}, {'exact_match': 100.0, 'f1': 100.0}, {'exact_match': 66.66666666666667, 'f1': 83.33333333333333}, {'exact_match': 100.0, 'f1': 100.0}, {'exact_match': 50.0, 'f1': 87.5}, {'exact_match': 100.0, 'f1': 100.0}, {'exact_match': 75.0, 'f1': 93.75}, {'exact_match': 100.0, 'f1': 100.0}, {'exact_match': 100.0, 'f1': 100.0}, {'exact_match': 100.0, 'f1': 100.0}, {'exact_match': 50.0, 'f1': 70.0}, {'exact_match': 100.0, 'f1': 100.0}, {'exact_match': 100.0, 'f1': 100.0}, {'exact_match': 100.0, 'f1': 100.0}, {'exact_match': 66.66666666666667, 'f1': 83.33333333333333}, {'exact_match': 100.0, 'f1': 100.0}, {'exact_match': 100.0, 'f1': 100.0}, {'exact_match': 100.0, 'f1': 100.0}, {'exact_match': 100.0, 'f1': 100.0}, {'exact_match': 100.0, 'f1': 100.0}, {'exact_match': 100.0, 'f1': 100.0}, {'exact_match': 66.66666666666667, 'f1': 88.88888888888887}, {'exact_match': 100.0, 'f1': 100.0}, {'exact_match': 0.0, 'f1': 66.66666666666666}, {'exact_match': 100.0, 'f1': 100.0}, {'exact_match': 100.0, 'f1': 100.0}, {'exact_match': 100.0, 'f1': 100.0}, {'exact_match': 66.66666666666667, 'f1': 73.33333333333334}, {'exact_match': 100.0, 'f1': 100.0}, {'exact_match': 50.0, 'f1': 83.33333333333333}, {'exact_match': 75.0, 'f1': 87.5}]\n",
            "Article 3 par stats: [{'exact_match': 85.71428571428571, 'f1': 95.23809523809523}, {'exact_match': 100.0, 'f1': 100.0}, {'exact_match': 85.71428571428571, 'f1': 92.85714285714286}, {'exact_match': 44.44444444444444, 'f1': 77.96296296296296}, {'exact_match': 77.77777777777777, 'f1': 93.51851851851852}, {'exact_match': 100.0, 'f1': 100.0}, {'exact_match': 90.0, 'f1': 99.23076923076924}, {'exact_match': 100.0, 'f1': 100.0}, {'exact_match': 88.88888888888889, 'f1': 95.23809523809524}, {'exact_match': 80.0, 'f1': 91.66666666666666}, {'exact_match': 50.0, 'f1': 92.28040689960194}, {'exact_match': 55.55555555555556, 'f1': 84.42199775533109}, {'exact_match': 75.0, 'f1': 96.53846153846153}, {'exact_match': 88.88888888888889, 'f1': 93.33333333333333}, {'exact_match': 80.0, 'f1': 93.33333333333333}, {'exact_match': 50.0, 'f1': 65.0}, {'exact_match': 80.0, 'f1': 89.16666666666666}, {'exact_match': 100.0, 'f1': 100.0}, {'exact_match': 100.0, 'f1': 100.0}, {'exact_match': 55.55555555555556, 'f1': 85.4320987654321}, {'exact_match': 90.0, 'f1': 98.33333333333333}, {'exact_match': 75.0, 'f1': 81.25}, {'exact_match': 83.33333333333333, 'f1': 90.0}, {'exact_match': 66.66666666666667, 'f1': 93.96825396825398}, {'exact_match': 88.88888888888889, 'f1': 88.88888888888889}, {'exact_match': 100.0, 'f1': 100.0}, {'exact_match': 100.0, 'f1': 100.0}, {'exact_match': 87.5, 'f1': 93.75}, {'exact_match': 100.0, 'f1': 100.0}, {'exact_match': 100.0, 'f1': 100.0}, {'exact_match': 75.0, 'f1': 91.66666666666666}, {'exact_match': 77.77777777777777, 'f1': 93.65079365079366}, {'exact_match': 100.0, 'f1': 100.0}, {'exact_match': 100.0, 'f1': 100.0}, {'exact_match': 75.0, 'f1': 88.63636363636364}, {'exact_match': 100.0, 'f1': 100.0}, {'exact_match': 100.0, 'f1': 100.0}, {'exact_match': 80.0, 'f1': 93.33333333333333}, {'exact_match': 75.0, 'f1': 95.0}, {'exact_match': 100.0, 'f1': 100.0}, {'exact_match': 40.0, 'f1': 87.5925925925926}, {'exact_match': 50.0, 'f1': 88.09523809523809}, {'exact_match': 80.0, 'f1': 97.14285714285715}, {'exact_match': 100.0, 'f1': 100.0}, {'exact_match': 75.0, 'f1': 89.28571428571429}, {'exact_match': 33.333333333333336, 'f1': 70.23809523809524}, {'exact_match': 66.66666666666667, 'f1': 83.33333333333333}, {'exact_match': 100.0, 'f1': 100.0}, {'exact_match': 50.0, 'f1': 89.39393939393939}, {'exact_match': 80.0, 'f1': 99.0909090909091}, {'exact_match': 100.0, 'f1': 100.0}, {'exact_match': 40.0, 'f1': 72.82051282051282}, {'exact_match': 75.0, 'f1': 95.0}, {'exact_match': 50.0, 'f1': 78.125}, {'exact_match': 0.0, 'f1': 77.77777777777779}, {'exact_match': 100.0, 'f1': 100.0}, {'exact_match': 75.0, 'f1': 96.42857142857143}, {'exact_match': 75.0, 'f1': 95.83333333333333}, {'exact_match': 80.0, 'f1': 93.33333333333333}, {'exact_match': 0.0, 'f1': 41.15873015873016}, {'exact_match': 100.0, 'f1': 100.0}, {'exact_match': 40.0, 'f1': 76.81818181818183}, {'exact_match': 40.0, 'f1': 77.87878787878788}, {'exact_match': 66.66666666666667, 'f1': 85.71428571428572}, {'exact_match': 80.0, 'f1': 97.14285714285715}, {'exact_match': 25.0, 'f1': 51.42045454545454}, {'exact_match': 100.0, 'f1': 100.0}, {'exact_match': 80.0, 'f1': 88.57142857142858}, {'exact_match': 75.0, 'f1': 91.66666666666666}, {'exact_match': 25.0, 'f1': 69.54545454545455}, {'exact_match': 50.0, 'f1': 92.22222222222223}, {'exact_match': 100.0, 'f1': 100.0}, {'exact_match': 80.0, 'f1': 93.33333333333333}, {'exact_match': 100.0, 'f1': 100.0}, {'exact_match': 60.0, 'f1': 93.14285714285714}, {'exact_match': 100.0, 'f1': 100.0}, {'exact_match': 66.66666666666667, 'f1': 88.88888888888887}, {'exact_match': 100.0, 'f1': 100.0}, {'exact_match': 66.66666666666667, 'f1': 93.33333333333333}, {'exact_match': 50.0, 'f1': 89.74358974358974}, {'exact_match': 75.0, 'f1': 91.66666666666666}, {'exact_match': 0.0, 'f1': 23.31002331002331}, {'exact_match': 25.0, 'f1': 75.0}, {'exact_match': 50.0, 'f1': 83.33333333333333}, {'exact_match': 66.66666666666667, 'f1': 66.66666666666667}, {'exact_match': 75.0, 'f1': 96.42857142857143}, {'exact_match': 66.66666666666667, 'f1': 88.88888888888887}, {'exact_match': 100.0, 'f1': 100.0}, {'exact_match': 33.333333333333336, 'f1': 53.333333333333336}, {'exact_match': 100.0, 'f1': 100.0}, {'exact_match': 100.0, 'f1': 100.0}, {'exact_match': 80.0, 'f1': 93.33333333333333}]\n",
            "Article 4 par stats: [{'exact_match': 100.0, 'f1': 100.0}, {'exact_match': 40.0, 'f1': 65.30946291560103}, {'exact_match': 100.0, 'f1': 100.0}, {'exact_match': 100.0, 'f1': 100.0}, {'exact_match': 100.0, 'f1': 100.0}, {'exact_match': 40.0, 'f1': 67.42857142857142}, {'exact_match': 100.0, 'f1': 100.0}, {'exact_match': 66.66666666666667, 'f1': 66.66666666666667}, {'exact_match': 80.0, 'f1': 93.33333333333334}, {'exact_match': 50.0, 'f1': 77.27272727272727}, {'exact_match': 60.0, 'f1': 76.0}, {'exact_match': 100.0, 'f1': 100.0}, {'exact_match': 100.0, 'f1': 100.0}, {'exact_match': 80.0, 'f1': 92.30769230769229}, {'exact_match': 100.0, 'f1': 100.0}, {'exact_match': 100.0, 'f1': 100.0}, {'exact_match': 100.0, 'f1': 100.0}, {'exact_match': 75.0, 'f1': 91.66666666666666}, {'exact_match': 60.0, 'f1': 86.66666666666666}, {'exact_match': 25.0, 'f1': 54.166666666666664}, {'exact_match': 100.0, 'f1': 100.0}, {'exact_match': 80.0, 'f1': 80.0}, {'exact_match': 75.0, 'f1': 95.0}, {'exact_match': 100.0, 'f1': 100.0}, {'exact_match': 100.0, 'f1': 100.0}, {'exact_match': 33.333333333333336, 'f1': 74.60317460317461}, {'exact_match': 60.0, 'f1': 80.0}, {'exact_match': 60.0, 'f1': 74.28571428571429}, {'exact_match': 100.0, 'f1': 100.0}, {'exact_match': 60.0, 'f1': 83.93939393939395}, {'exact_match': 60.0, 'f1': 73.0}, {'exact_match': 25.0, 'f1': 53.431372549019606}, {'exact_match': 50.0, 'f1': 88.09523809523809}, {'exact_match': 60.0, 'f1': 79.23076923076924}, {'exact_match': 66.66666666666667, 'f1': 77.77777777777779}, {'exact_match': 66.66666666666667, 'f1': 82.05128205128206}, {'exact_match': 80.0, 'f1': 96.0}, {'exact_match': 100.0, 'f1': 100.0}, {'exact_match': 0.0, 'f1': 60.4933110367893}, {'exact_match': 100.0, 'f1': 100.0}, {'exact_match': 100.0, 'f1': 100.0}, {'exact_match': 100.0, 'f1': 100.0}, {'exact_match': 80.0, 'f1': 97.14285714285714}, {'exact_match': 60.0, 'f1': 70.9090909090909}, {'exact_match': 80.0, 'f1': 92.5}, {'exact_match': 100.0, 'f1': 100.0}, {'exact_match': 0.0, 'f1': 53.571428571428584}, {'exact_match': 100.0, 'f1': 100.0}]\n",
            "Article 5 par stats: [{'exact_match': 80.0, 'f1': 85.0}, {'exact_match': 75.0, 'f1': 75.0}, {'exact_match': 80.0, 'f1': 93.33333333333333}, {'exact_match': 0.0, 'f1': 33.33333333333333}, {'exact_match': 100.0, 'f1': 100.0}, {'exact_match': 50.0, 'f1': 75.0}, {'exact_match': 80.0, 'f1': 84.70588235294119}, {'exact_match': 80.0, 'f1': 90.0}, {'exact_match': 75.0, 'f1': 96.42857142857143}, {'exact_match': 40.0, 'f1': 54.666666666666664}, {'exact_match': 40.0, 'f1': 79.99999999999999}, {'exact_match': 100.0, 'f1': 100.0}, {'exact_match': 60.0, 'f1': 86.66666666666666}, {'exact_match': 40.0, 'f1': 76.0}, {'exact_match': 60.0, 'f1': 86.03174603174605}, {'exact_match': 80.0, 'f1': 93.33333333333333}, {'exact_match': 60.0, 'f1': 83.33333333333333}, {'exact_match': 80.0, 'f1': 90.0}, {'exact_match': 66.66666666666667, 'f1': 85.71428571428572}, {'exact_match': 40.0, 'f1': 68.0}, {'exact_match': 60.0, 'f1': 86.66666666666666}, {'exact_match': 50.0, 'f1': 87.5}, {'exact_match': 100.0, 'f1': 100.0}, {'exact_match': 60.0, 'f1': 74.54545454545455}, {'exact_match': 60.0, 'f1': 91.0}, {'exact_match': 100.0, 'f1': 100.0}, {'exact_match': 80.0, 'f1': 91.42857142857142}, {'exact_match': 75.0, 'f1': 75.0}, {'exact_match': 60.0, 'f1': 69.52380952380953}, {'exact_match': 25.0, 'f1': 84.52380952380952}, {'exact_match': 100.0, 'f1': 100.0}, {'exact_match': 80.0, 'f1': 93.33333333333333}, {'exact_match': 50.0, 'f1': 75.58823529411765}, {'exact_match': 100.0, 'f1': 100.0}, {'exact_match': 80.0, 'f1': 97.14285714285715}, {'exact_match': 80.0, 'f1': 86.66666666666667}, {'exact_match': 100.0, 'f1': 100.0}, {'exact_match': 20.0, 'f1': 53.33333333333333}, {'exact_match': 60.0, 'f1': 87.14285714285715}, {'exact_match': 80.0, 'f1': 93.33333333333334}, {'exact_match': 0.0, 'f1': 70.5128205128205}, {'exact_match': 60.0, 'f1': 89.33333333333334}, {'exact_match': 50.0, 'f1': 83.33333333333333}, {'exact_match': 100.0, 'f1': 100.0}, {'exact_match': 50.0, 'f1': 85.8974358974359}, {'exact_match': 100.0, 'f1': 100.0}, {'exact_match': 80.0, 'f1': 84.0}, {'exact_match': 100.0, 'f1': 100.0}, {'exact_match': 60.0, 'f1': 83.41176470588235}, {'exact_match': 80.0, 'f1': 88.00000000000001}, {'exact_match': 40.0, 'f1': 61.777777777777786}, {'exact_match': 100.0, 'f1': 100.0}, {'exact_match': 80.0, 'f1': 97.77777777777779}, {'exact_match': 25.0, 'f1': 51.24999999999999}, {'exact_match': 20.0, 'f1': 52.62770562770562}, {'exact_match': 75.0, 'f1': 80.55555555555556}, {'exact_match': 80.0, 'f1': 80.0}, {'exact_match': 100.0, 'f1': 100.0}]\n",
            "Total EM = 75.38318638299897; Total F1 = 89.2009516707352\n",
            "Article Stats:\n",
            "article #1: EM = 76.66666666666666; F1 = 90.84607504007262\n",
            "article #2: EM = 84.44444444444443; F1 = 93.78703703703704\n",
            "article #3: EM = 74.00405452035889; F1 = 89.88836172842542\n",
            "article #4: EM = 74.44444444444444; F1 = 87.14270550244017\n",
            "article #5: EM = 67.35632183908046; F1 = 84.34057904570075\n",
            "Par Stats:\n",
            "{'exact_match': 80.0, 'f1': 85.0}\n",
            "{'exact_match': 75.0, 'f1': 75.0}\n",
            "{'exact_match': 80.0, 'f1': 93.33333333333333}\n",
            "{'exact_match': 0.0, 'f1': 33.33333333333333}\n",
            "{'exact_match': 100.0, 'f1': 100.0}\n",
            "{'exact_match': 50.0, 'f1': 75.0}\n",
            "{'exact_match': 80.0, 'f1': 84.70588235294119}\n",
            "{'exact_match': 80.0, 'f1': 90.0}\n",
            "{'exact_match': 75.0, 'f1': 96.42857142857143}\n",
            "{'exact_match': 40.0, 'f1': 54.666666666666664}\n",
            "{'exact_match': 40.0, 'f1': 79.99999999999999}\n",
            "{'exact_match': 100.0, 'f1': 100.0}\n",
            "{'exact_match': 60.0, 'f1': 86.66666666666666}\n",
            "{'exact_match': 40.0, 'f1': 76.0}\n",
            "{'exact_match': 60.0, 'f1': 86.03174603174605}\n",
            "{'exact_match': 80.0, 'f1': 93.33333333333333}\n",
            "{'exact_match': 60.0, 'f1': 83.33333333333333}\n",
            "{'exact_match': 80.0, 'f1': 90.0}\n",
            "{'exact_match': 66.66666666666667, 'f1': 85.71428571428572}\n",
            "{'exact_match': 40.0, 'f1': 68.0}\n",
            "{'exact_match': 60.0, 'f1': 86.66666666666666}\n",
            "{'exact_match': 50.0, 'f1': 87.5}\n",
            "{'exact_match': 100.0, 'f1': 100.0}\n",
            "{'exact_match': 60.0, 'f1': 74.54545454545455}\n",
            "{'exact_match': 60.0, 'f1': 91.0}\n",
            "{'exact_match': 100.0, 'f1': 100.0}\n",
            "{'exact_match': 80.0, 'f1': 91.42857142857142}\n",
            "{'exact_match': 75.0, 'f1': 75.0}\n",
            "{'exact_match': 60.0, 'f1': 69.52380952380953}\n",
            "{'exact_match': 25.0, 'f1': 84.52380952380952}\n",
            "{'exact_match': 100.0, 'f1': 100.0}\n",
            "{'exact_match': 80.0, 'f1': 93.33333333333333}\n",
            "{'exact_match': 50.0, 'f1': 75.58823529411765}\n",
            "{'exact_match': 100.0, 'f1': 100.0}\n",
            "{'exact_match': 80.0, 'f1': 97.14285714285715}\n",
            "{'exact_match': 80.0, 'f1': 86.66666666666667}\n",
            "{'exact_match': 100.0, 'f1': 100.0}\n",
            "{'exact_match': 20.0, 'f1': 53.33333333333333}\n",
            "{'exact_match': 60.0, 'f1': 87.14285714285715}\n",
            "{'exact_match': 80.0, 'f1': 93.33333333333334}\n",
            "{'exact_match': 0.0, 'f1': 70.5128205128205}\n",
            "{'exact_match': 60.0, 'f1': 89.33333333333334}\n",
            "{'exact_match': 50.0, 'f1': 83.33333333333333}\n",
            "{'exact_match': 100.0, 'f1': 100.0}\n",
            "{'exact_match': 50.0, 'f1': 85.8974358974359}\n",
            "{'exact_match': 100.0, 'f1': 100.0}\n",
            "{'exact_match': 80.0, 'f1': 84.0}\n",
            "{'exact_match': 100.0, 'f1': 100.0}\n",
            "{'exact_match': 60.0, 'f1': 83.41176470588235}\n",
            "{'exact_match': 80.0, 'f1': 88.00000000000001}\n",
            "{'exact_match': 40.0, 'f1': 61.777777777777786}\n",
            "{'exact_match': 100.0, 'f1': 100.0}\n",
            "{'exact_match': 80.0, 'f1': 97.77777777777779}\n",
            "{'exact_match': 25.0, 'f1': 51.24999999999999}\n",
            "{'exact_match': 20.0, 'f1': 52.62770562770562}\n",
            "{'exact_match': 75.0, 'f1': 80.55555555555556}\n",
            "{'exact_match': 80.0, 'f1': 80.0}\n",
            "{'exact_match': 100.0, 'f1': 100.0}\n"
          ]
        }
      ]
    },
    {
      "cell_type": "code",
      "source": [
        "# Compute scores for gpt3.5 for (1-5) with reference context.\n",
        "compute_scores(\"gpt3.5_replies_with_ref_context.json\", dev_json)"
      ],
      "metadata": {
        "colab": {
          "base_uri": "https://localhost:8080/"
        },
        "id": "eig5JMqB3cGc",
        "outputId": "ba7deab7-018f-467a-b957-6478f3e33419"
      },
      "execution_count": null,
      "outputs": [
        {
          "output_type": "stream",
          "name": "stdout",
          "text": [
            "Total EM = 94.0; Total F1 = 98.16666666666666\n",
            "Article Stats:\n",
            "article #1: EM = 90.0; F1 = 97.5\n",
            "article #2: EM = 100.0; F1 = 100.0\n",
            "article #3: EM = 80.0; F1 = 93.33333333333333\n",
            "article #4: EM = 100.0; F1 = 100.0\n",
            "article #5: EM = 100.0; F1 = 100.0\n"
          ]
        }
      ]
    },
    {
      "cell_type": "code",
      "source": [
        "# Compute scores for gpt3.5 for high-quality audios (44.1khz).\n",
        "compute_scores(\"gpt4_replies_with_44.1khz_context.json\", dev_json)"
      ],
      "metadata": {
        "colab": {
          "base_uri": "https://localhost:8080/"
        },
        "id": "J53IlIvt3mPB",
        "outputId": "70feaed1-8892-42e3-bdee-b346fbc42b63"
      },
      "execution_count": null,
      "outputs": [
        {
          "output_type": "stream",
          "name": "stdout",
          "text": [
            "starting article: 1\n",
            "starting article: 2\n",
            "starting article: 3\n",
            "starting article: 4\n",
            "starting article: 5\n",
            "Total EM = 63.0; Total F1 = 72.80555555555556\n",
            "Article Stats:\n",
            "article #1: EM = 70.0; F1 = 74.44444444444444\n",
            "article #2: EM = 50.0; F1 = 62.5\n",
            "article #3: EM = 80.0; F1 = 93.33333333333333\n",
            "article #4: EM = 75.0; F1 = 93.75\n",
            "article #5: EM = 40.0; F1 = 40.0\n"
          ]
        }
      ]
    },
    {
      "cell_type": "code",
      "source": [
        "# Compute scores for gpt3.5 for low-quality audios (4khz).\n",
        "compute_scores(\"gpt4_replies_with_4khz_context.json\", dev_json)"
      ],
      "metadata": {
        "colab": {
          "base_uri": "https://localhost:8080/"
        },
        "id": "BnUTBAK73zCe",
        "outputId": "fca1cf51-01e4-4eaf-cd6b-e4f5ad4e5ea9"
      },
      "execution_count": null,
      "outputs": [
        {
          "output_type": "stream",
          "name": "stdout",
          "text": [
            "starting article: 1\n",
            "starting article: 2\n",
            "starting article: 3\n",
            "starting article: 4\n",
            "starting article: 5\n",
            "Total EM = 43.0; Total F1 = 59.33333333333333\n",
            "Article Stats:\n",
            "article #1: EM = 60.0; F1 = 68.0\n",
            "article #2: EM = 25.0; F1 = 37.5\n",
            "article #3: EM = 60.0; F1 = 91.99999999999999\n",
            "article #4: EM = 50.0; F1 = 79.16666666666666\n",
            "article #5: EM = 20.0; F1 = 20.0\n"
          ]
        }
      ]
    }
  ]
}