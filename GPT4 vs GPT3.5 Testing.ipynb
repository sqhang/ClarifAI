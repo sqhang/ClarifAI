{
  "nbformat": 4,
  "nbformat_minor": 0,
  "metadata": {
    "colab": {
      "provenance": []
    },
    "kernelspec": {
      "name": "python3",
      "display_name": "Python 3"
    },
    "language_info": {
      "name": "python"
    }
  },
  "cells": [
    {
      "cell_type": "code",
      "source": [
        "!pip install openai"
      ],
      "metadata": {
        "colab": {
          "base_uri": "https://localhost:8080/"
        },
        "id": "Te0lf7wM84b7",
        "outputId": "244d8545-638d-4ddf-8457-20c8bd51a4d3"
      },
      "execution_count": 2,
      "outputs": [
        {
          "output_type": "stream",
          "name": "stdout",
          "text": [
            "Looking in indexes: https://pypi.org/simple, https://us-python.pkg.dev/colab-wheels/public/simple/\n",
            "Collecting openai\n",
            "  Downloading openai-0.27.5-py3-none-any.whl (71 kB)\n",
            "\u001b[2K     \u001b[90m━━━━━━━━━━━━━━━━━━━━━━━━━━━━━━━━━━━━━━━━\u001b[0m \u001b[32m71.6/71.6 kB\u001b[0m \u001b[31m8.0 MB/s\u001b[0m eta \u001b[36m0:00:00\u001b[0m\n",
            "\u001b[?25hCollecting aiohttp\n",
            "  Downloading aiohttp-3.8.4-cp310-cp310-manylinux_2_17_x86_64.manylinux2014_x86_64.whl (1.0 MB)\n",
            "\u001b[2K     \u001b[90m━━━━━━━━━━━━━━━━━━━━━━━━━━━━━━━━━━━━━━━━\u001b[0m \u001b[32m1.0/1.0 MB\u001b[0m \u001b[31m49.3 MB/s\u001b[0m eta \u001b[36m0:00:00\u001b[0m\n",
            "\u001b[?25hRequirement already satisfied: tqdm in /usr/local/lib/python3.10/dist-packages (from openai) (4.65.0)\n",
            "Requirement already satisfied: requests>=2.20 in /usr/local/lib/python3.10/dist-packages (from openai) (2.27.1)\n",
            "Requirement already satisfied: idna<4,>=2.5 in /usr/local/lib/python3.10/dist-packages (from requests>=2.20->openai) (3.4)\n",
            "Requirement already satisfied: certifi>=2017.4.17 in /usr/local/lib/python3.10/dist-packages (from requests>=2.20->openai) (2022.12.7)\n",
            "Requirement already satisfied: charset-normalizer~=2.0.0 in /usr/local/lib/python3.10/dist-packages (from requests>=2.20->openai) (2.0.12)\n",
            "Requirement already satisfied: urllib3<1.27,>=1.21.1 in /usr/local/lib/python3.10/dist-packages (from requests>=2.20->openai) (1.26.15)\n",
            "Collecting yarl<2.0,>=1.0\n",
            "  Downloading yarl-1.9.2-cp310-cp310-manylinux_2_17_x86_64.manylinux2014_x86_64.whl (268 kB)\n",
            "\u001b[2K     \u001b[90m━━━━━━━━━━━━━━━━━━━━━━━━━━━━━━━━━━━━━━\u001b[0m \u001b[32m268.8/268.8 kB\u001b[0m \u001b[31m34.2 MB/s\u001b[0m eta \u001b[36m0:00:00\u001b[0m\n",
            "\u001b[?25hCollecting aiosignal>=1.1.2\n",
            "  Downloading aiosignal-1.3.1-py3-none-any.whl (7.6 kB)\n",
            "Collecting frozenlist>=1.1.1\n",
            "  Downloading frozenlist-1.3.3-cp310-cp310-manylinux_2_5_x86_64.manylinux1_x86_64.manylinux_2_17_x86_64.manylinux2014_x86_64.whl (149 kB)\n",
            "\u001b[2K     \u001b[90m━━━━━━━━━━━━━━━━━━━━━━━━━━━━━━━━━━━━━━\u001b[0m \u001b[32m149.6/149.6 kB\u001b[0m \u001b[31m18.0 MB/s\u001b[0m eta \u001b[36m0:00:00\u001b[0m\n",
            "\u001b[?25hCollecting async-timeout<5.0,>=4.0.0a3\n",
            "  Downloading async_timeout-4.0.2-py3-none-any.whl (5.8 kB)\n",
            "Requirement already satisfied: attrs>=17.3.0 in /usr/local/lib/python3.10/dist-packages (from aiohttp->openai) (23.1.0)\n",
            "Collecting multidict<7.0,>=4.5\n",
            "  Downloading multidict-6.0.4-cp310-cp310-manylinux_2_17_x86_64.manylinux2014_x86_64.whl (114 kB)\n",
            "\u001b[2K     \u001b[90m━━━━━━━━━━━━━━━━━━━━━━━━━━━━━━━━━━━━━━\u001b[0m \u001b[32m114.5/114.5 kB\u001b[0m \u001b[31m13.7 MB/s\u001b[0m eta \u001b[36m0:00:00\u001b[0m\n",
            "\u001b[?25hInstalling collected packages: multidict, frozenlist, async-timeout, yarl, aiosignal, aiohttp, openai\n",
            "Successfully installed aiohttp-3.8.4 aiosignal-1.3.1 async-timeout-4.0.2 frozenlist-1.3.3 multidict-6.0.4 openai-0.27.5 yarl-1.9.2\n"
          ]
        }
      ]
    },
    {
      "cell_type": "code",
      "source": [
        "!wget https://rajpurkar.github.io/SQuAD-explorer/dataset/dev-v1.1.json"
      ],
      "metadata": {
        "colab": {
          "base_uri": "https://localhost:8080/"
        },
        "id": "f05IucdS3aDy",
        "outputId": "fe414366-d63d-40b3-c075-4d5fa241ce12"
      },
      "execution_count": 3,
      "outputs": [
        {
          "output_type": "stream",
          "name": "stdout",
          "text": [
            "--2023-04-29 23:59:43--  https://rajpurkar.github.io/SQuAD-explorer/dataset/dev-v1.1.json\n",
            "Resolving rajpurkar.github.io (rajpurkar.github.io)... 185.199.111.153, 185.199.108.153, 185.199.109.153, ...\n",
            "Connecting to rajpurkar.github.io (rajpurkar.github.io)|185.199.111.153|:443... connected.\n",
            "HTTP request sent, awaiting response... 200 OK\n",
            "Length: 4854279 (4.6M) [application/json]\n",
            "Saving to: ‘dev-v1.1.json’\n",
            "\n",
            "\rdev-v1.1.json         0%[                    ]       0  --.-KB/s               \rdev-v1.1.json       100%[===================>]   4.63M  --.-KB/s    in 0.02s   \n",
            "\n",
            "2023-04-29 23:59:43 (230 MB/s) - ‘dev-v1.1.json’ saved [4854279/4854279]\n",
            "\n"
          ]
        }
      ]
    },
    {
      "cell_type": "code",
      "source": [
        "import json\n",
        "# Load the SQuAD1.1 validation dataset.\n",
        "with open(\"dev-v1.1.json\", \"r\") as file:\n",
        "    validation_data = json.load(file)[\"data\"]\n",
        "\n"
      ],
      "metadata": {
        "id": "KgtGxVLn3dml"
      },
      "execution_count": 4,
      "outputs": []
    },
    {
      "cell_type": "code",
      "source": [
        "validation_data[0][\"paragraphs\"][0][\"context\"]"
      ],
      "metadata": {
        "colab": {
          "base_uri": "https://localhost:8080/",
          "height": 89
        },
        "id": "o62jssT3FB8O",
        "outputId": "8657f4b0-198b-4445-b48f-92f515292eb4"
      },
      "execution_count": 13,
      "outputs": [
        {
          "output_type": "execute_result",
          "data": {
            "text/plain": [
              "'Super Bowl 50 was an American football game to determine the champion of the National Football League (NFL) for the 2015 season. The American Football Conference (AFC) champion Denver Broncos defeated the National Football Conference (NFC) champion Carolina Panthers 24–10 to earn their third Super Bowl title. The game was played on February 7, 2016, at Levi\\'s Stadium in the San Francisco Bay Area at Santa Clara, California. As this was the 50th Super Bowl, the league emphasized the \"golden anniversary\" with various gold-themed initiatives, as well as temporarily suspending the tradition of naming each Super Bowl game with Roman numerals (under which the game would have been known as \"Super Bowl L\"), so that the logo could prominently feature the Arabic numerals 50.'"
            ],
            "application/vnd.google.colaboratory.intrinsic+json": {
              "type": "string"
            }
          },
          "metadata": {},
          "execution_count": 13
        }
      ]
    },
    {
      "cell_type": "code",
      "source": [
        "validation_data[0][\"paragraphs\"][0][\"qas\"][0][\"question\"]"
      ],
      "metadata": {
        "colab": {
          "base_uri": "https://localhost:8080/",
          "height": 37
        },
        "id": "GF-PDsQMFdXj",
        "outputId": "fe61546d-82ef-4c93-a76a-c09094388226"
      },
      "execution_count": 14,
      "outputs": [
        {
          "output_type": "execute_result",
          "data": {
            "text/plain": [
              "'Which NFL team represented the AFC at Super Bowl 50?'"
            ],
            "application/vnd.google.colaboratory.intrinsic+json": {
              "type": "string"
            }
          },
          "metadata": {},
          "execution_count": 14
        }
      ]
    },
    {
      "cell_type": "code",
      "source": [
        "validation_data[0][\"paragraphs\"][0][\"qas\"][0][\"answers\"][0][\"text\"]"
      ],
      "metadata": {
        "colab": {
          "base_uri": "https://localhost:8080/",
          "height": 37
        },
        "id": "z5VlmgKsFxlJ",
        "outputId": "671b71f8-479c-4f35-ac76-c9d65ef1e252"
      },
      "execution_count": 15,
      "outputs": [
        {
          "output_type": "execute_result",
          "data": {
            "text/plain": [
              "'Denver Broncos'"
            ],
            "application/vnd.google.colaboratory.intrinsic+json": {
              "type": "string"
            }
          },
          "metadata": {},
          "execution_count": 15
        }
      ]
    },
    {
      "cell_type": "markdown",
      "source": [
        "In this example, the question is \"Which NFL team represented the AFC at Super Bowl 50?\". The context passage provides the information that the Denver Broncos were the AFC champions who played in Super Bowl 50. The answer \"Denver Broncos\" can be found within the context, starting at character index 177."
      ],
      "metadata": {
        "id": "LjVOm9s_4XT9"
      }
    },
    {
      "cell_type": "code",
      "execution_count": 10,
      "metadata": {
        "id": "0Ghcaz2i1kfk"
      },
      "outputs": [],
      "source": [
        "import openai\n",
        "\n",
        "# load and set our key\n",
        "openai.api_key = 'paste your API key here'"
      ]
    },
    {
      "cell_type": "code",
      "source": [
        "model_id = \"gpt-3.5-turbo\"  #\"gpt-3.5-turbo\" or \"gpt-4\"\n",
        "max_num_questions = 10 # for batch processing"
      ],
      "metadata": {
        "id": "3jH9aiYXXCpZ"
      },
      "execution_count": 5,
      "outputs": []
    },
    {
      "cell_type": "code",
      "source": [
        "\"\"\"\n",
        "This function facilitates a conversation with the ChatGPT model by maintaining a conversation log and sending it to the model for generating responses. The conversation continues until the model reaches a stopping point.\n",
        "\n",
        "Args:\n",
        "conversation_log (list): A list of dictionaries containing the conversation history, where each dictionary has 'role' and 'content' keys.\n",
        "model_id (str): The identifier for the ChatGPT model to be used for generating responses: \"gpt-3.5-turbo\" or \"gpt-4\".\n",
        "\n",
        "Returns:\n",
        "list: An updated conversation log that includes the model's responses.\n",
        "\n",
        "Example:\n",
        "conversation_log = [{'role': 'user', 'content': 'tell me a joke'}]\n",
        "model_id = 'gpt-4'\n",
        "updated_conversation_log = chatgpt_conversation(conversation_log, model_id)\n",
        "\"\"\"\n",
        "def chatgpt_conversation(conversation_log, model_id):\n",
        "  # Generate an initial response from the ChatGPT model based on the conversation log\n",
        "  response = openai.ChatCompletion.create(\n",
        "        model=model_id,\n",
        "        messages=conversation_log \n",
        "  )\n",
        "  # Extract role and content from the response\n",
        "  role = response.choices[0].message.role.strip()\n",
        "  content = response.choices[0].message.content.strip()\n",
        "  # Add the response to the conversation log\n",
        "  conversation_log.append({'role': role, 'content': content})\n",
        "  print('{0}: {1}\\n'.format(role, content))\n",
        "  # Create a copy of the conversation log\n",
        "  conversation_log_copy = conversation_log.copy()\n",
        "  # Continue the conversation until the model reaches a stopping point\n",
        "  while (response.choices[0].finish_reason != 'stop'):\n",
        "    # Add a 'continue' message to the conversation log copy\n",
        "    conversation_log_copy.append({'role': 'user', \n",
        "                                  'content': 'continue'})\n",
        "    # Generate a response from the ChatGPT model based on the updated conversation log copy\n",
        "    response = openai.ChatCompletion.create(\n",
        "        model=model_id,\n",
        "        messages=conversation_log_copy\n",
        "    )\n",
        "    # Extract role and content from the response\n",
        "    role = response.choices[0].message.role.strip()\n",
        "    content = response.choices[0].message.content.strip()\n",
        "    # Add the response to the conversation log and conversation log copy\n",
        "    reply = {'role': role, 'content': content}\n",
        "    conversation_log.append(reply)\n",
        "    conversation_log_copy.append(reply)\n",
        "    print('{0} (continued): {1}\\n'.format(role, content))\n",
        "  return conversation_log\n",
        "  "
      ],
      "metadata": {
        "id": "aqhnXvB6A370"
      },
      "execution_count": 1,
      "outputs": []
    },
    {
      "cell_type": "code",
      "source": [
        "question_template = \"Context: [<a passage from the Wikipedia article that contains the answer to the question>].\\n Questions: 1) [<first question>]; 2) [<second question>], 3) [<third question>].\"\n",
        "reply_template = \"Question1: [<repeat the first question here>];\\n Reply1: [<a reply to the question 1, given by a substring from Context>];\\n Question2: [<repeat the second question here>];\\n Reply2: [<a reply to the question 2, given by a substring from Context>];\\n Question3: [<repeat the third question here>];\\n Reply3: [<a reply to the question 3, given by a substring from Context>].\""
      ],
      "metadata": {
        "id": "Wv0DbnmbX4w3"
      },
      "execution_count": 6,
      "outputs": []
    },
    {
      "cell_type": "code",
      "source": [
        "question_example = \"\"\" Context: [Super Bowl 50 was an American football game to determine the champion of the National Football League (NFL) for the 2015 season. The American Football Conference (AFC) champion Denver Broncos defeated the National Football Conference (NFC) champion Carolina Panthers 24–10 to earn their third Super Bowl title. The game was played on February 7, 2016, at Levi's Stadium in the San Francisco Bay Area at Santa Clara, California. As this was the 50th Super Bowl, the league emphasized the \"golden anniversary\" with various gold-themed initiatives, as well as temporarily suspending the tradition of naming each Super Bowl game with Roman numerals (under which the game would have been known as \"Super Bowl L\"), so that the logo could prominently feature the Arabic numerals 50.].\n",
        " Questions: 1) [Which NFL team represented the AFC at Super Bowl 50?]; 2) [Which NFL team represented the NFC at Super Bowl 50?]; 3) [Where did Super Bowl 50 take place?]; 4) [Which NFL team won Super Bowl 50?]; 5) [What color was used to emphasize the 50th anniversary of the Super Bowl?]; 6) [What was the theme of Super Bowl 50?]; 7) [What day was the game played on?]; 8) [What is the AFC short for?]; 9) [What was the theme of Super Bowl 50?]; 10) [What does AFC stand for?].\n",
        "Remember: All answers must be exact substrings from the 'Context' string. Do not paraphrase or modify the answers. Keep your answers concise, typically containing a single number, date, name, etc. Don't use punctuation marks at the end of the answer. Provide longer answers with more than 3 words only when necessary.\"\"\"\n",
        "reply_example = \"\"\"Question1: [Which NFL team represented the AFC at Super Bowl 50?];\n",
        " Reply1: [Denver Broncos];\n",
        " Question2: [Which NFL team represented the NFC at Super Bowl 50?];\n",
        " Reply2: [Carolina Panthers];\n",
        " Question3: [Where did Super Bowl 50 take place?];\n",
        " Reply3: [Santa Clara, California];\n",
        " Question4: [Which NFL team won Super Bowl 50?];\n",
        " Reply4: [Denver Broncos];\n",
        " Question5: [What color was used to emphasize the 50th anniversary of the Super Bowl?];\n",
        " Reply5: [gold];\n",
        " Question6: [What was the theme of Super Bowl 50?];\n",
        " Reply6: [\"golden anniversary\"];\n",
        " Question7: [What day was the game played on?];\n",
        " Reply7: [February 7, 2016];\n",
        " Question8: [What is the AFC short for?];\n",
        " Reply8: [American Football Conference];\n",
        " Question9: [What was the theme of Super Bowl 50?];\n",
        " Reply9: [\"golden anniversary\"];\n",
        " Question10: [What does AFC stand for?];\n",
        " Reply10: [American Football Conference].\"\"\""
      ],
      "metadata": {
        "id": "c9wtADzQ82zq"
      },
      "execution_count": 7,
      "outputs": []
    },
    {
      "cell_type": "code",
      "source": [
        "# Create a system message, which sets the behavior of the assistant. \n",
        "conversations = []\n",
        "intro = f\"\"\"You are ChatGPT, a large language model trained by OpenAI. A user wants to evaluate your performance on a question answering dataset by comparing your replies to reference answers, using the EM and F1 scores.\n",
        "Your task is to answer questions based on the provided context. All answers should be exact substrings from the \\\"Context\\\" string. Do not paraphrase or modify the answers.\n",
        "The user will ask up to {max_num_questions} questions at a time, formatted as follows: \\\"{question_template}\\\". \n",
        "Keep your answers concise, typically containing a single number, date, name, etc. Provide longer answers of more than 3 words only when necessary.\n",
        "Your reply should be formatted as follows: \\\"{reply_template}\\\". Focus on answering questions accurately and following the reply format to ensure the best performance.\n",
        "I'm providing the example of the user message that asks 10 questions based on the context and an example of the perfect answer you should ideally give. \n",
        "\n",
        "If the user message is as follows: \\\"{question_example}\\\", then your reply must be as follows: \\\"{reply_example}\\\".\n",
        "Do you understand a task?\"\"\"\n",
        "reminder = \"Remember: All answers must be exact substrings from the 'Context' string. Do not paraphrase or modify the answers. Keep your answers concise, typically containing a single number, date, name, etc. Don't use punctuation marks at the end of the answer. Provide longer answers with more than 3 words only when necessary.\"\n",
        "# Roles: system, user, assistant\n",
        "conversations.append({'role': 'system', 'content': intro})\n"
      ],
      "metadata": {
        "id": "-HjWQ2jcPTIy"
      },
      "execution_count": 11,
      "outputs": []
    },
    {
      "cell_type": "code",
      "source": [
        "# Feed a system message.\n",
        "conversations = chatgpt_conversation(conversations, model_id)\n",
        "init_conversation = conversations.copy()"
      ],
      "metadata": {
        "colab": {
          "base_uri": "https://localhost:8080/"
        },
        "id": "5g5CfjSXP3zS",
        "outputId": "cd42d38e-ded5-4de3-967b-c6a37968329a"
      },
      "execution_count": 12,
      "outputs": [
        {
          "output_type": "stream",
          "name": "stdout",
          "text": [
            "assistant: Yes, I understand the task.\n",
            "\n"
          ]
        }
      ]
    },
    {
      "cell_type": "code",
      "source": [
        "\"\"\"\n",
        "This function creates a formatted user message string by combining context, questions, and a reminder.\n",
        "The message is printed and returned.\n",
        "\n",
        "Args:\n",
        "context (str): A string describing the context.\n",
        "questions (list): A list of strings containing the questions to be included in the user message.\n",
        "reminder (str): A string containing a reminder to be appended to the user message.\n",
        "\n",
        "Returns:\n",
        "str: A formatted user message string.\n",
        "\"\"\"\n",
        "def create_user_msg(context, questions, reminder):\n",
        "  user_msg = f\"Context: [{context}].\\n Questions: \"\n",
        "  # Iterate through the list of questions and append them to the user message\n",
        "  for i in range(len(questions)):\n",
        "    user_msg += f\"{i+1}) [{questions[i]}]\"\n",
        "    # Add a semicolon separator for all questions except the last one\n",
        "    if (i+1 != len(questions)):\n",
        "      user_msg += \"; \"\n",
        "  # Close the questions section and add a period\n",
        "  user_msg += \".\\n\"\n",
        "  # Append the reminder to the user message\n",
        "  user_msg += reminder\n",
        "  print(user_msg)\n",
        "  return user_msg"
      ],
      "metadata": {
        "id": "rgzzjdTorai7"
      },
      "execution_count": 17,
      "outputs": []
    },
    {
      "cell_type": "code",
      "source": [
        "import re\n",
        "\"\"\"\n",
        "This function generates replies to a list of questions in a given context using the ChatGPT model.\n",
        "It first creates a user message that combines the context, questions, and a reminder, and then\n",
        "interacts with the ChatGPT model to obtain replies.\n",
        "\n",
        "Args:\n",
        "context (str): A string describing the context of the questions.\n",
        "questions (list): A list of strings containing the questions to be answered.\n",
        "conversations (list): A list of dictionaries containing the conversation history with ChatGPT.\n",
        "reminder (str): A string containing a reminder to be appended to the user message.\n",
        "model_id (str): The identifier for the ChatGPT model to be used for generating responses: \"gpt-3.5-turbo\" or \"gpt-4\".\n",
        "\n",
        "Returns:\n",
        "list: A list of strings containing the replies generated by the ChatGPT model.\n",
        "\"\"\"\n",
        "def get_replies(context, questions, conversations, reminder, model_id):\n",
        "    replies = []\n",
        "    # Send a request to chatGPT with the created user message\n",
        "    conversations.append({'role': 'user', \n",
        "                          'content': create_user_msg(context, questions, reminder)})\n",
        "    conversations = chatgpt_conversation(conversations, model_id)\n",
        "    # Extract the content of the latest response from ChatGPT\n",
        "    answer = conversations[-1]['content']\n",
        "\n",
        "    # Extract replies using a regular expression\n",
        "    reply_pattern = re.compile(r\"Reply\\d+: \\[(.*?)\\]\")\n",
        "    extracted_replies = reply_pattern.findall(answer)\n",
        "    # Append each extracted reply to the replies list\n",
        "    for extracted_reply in extracted_replies:\n",
        "        replies.append(extracted_reply)\n",
        "\n",
        "    return replies\n"
      ],
      "metadata": {
        "id": "5XHaLmNboKtc"
      },
      "execution_count": 18,
      "outputs": []
    },
    {
      "cell_type": "code",
      "source": [
        "\"\"\"\n",
        "This function writes replies generated by the ChatGPT model to a set of questions\n",
        "from multiple paragraphs of an article. It takes an initial conversation, validation_data,\n",
        "and other parameters to control the extraction of replies and stores the generated replies as a JSON file.\n",
        "\n",
        "Args:\n",
        "init_conversation (list): A list of dictionaries containing the initial conversation history with ChatGPT, which includes a system message with instructions.\n",
        "validation_data (list): A list of dictionaries containing article data, including paragraphs and questions.\n",
        "art_idx (int): The index of the target article in the validation_data.\n",
        "start_par_idx (int): The starting index of the paragraphs to process.\n",
        "num_paragraphs (int): The number of paragraphs to process.\n",
        "max_num_questions (int): The maximum number of questions to process at once.\n",
        "model_id (str): The identifier for the ChatGPT model to be used for generating responses.\n",
        "\"\"\"\n",
        "def write_replies(init_conversation, validation_data, art_idx, start_par_idx, num_paragraphs, max_num_questions, model_id):\n",
        "  article = validation_data[art_idx]\n",
        "  art_replies = []\n",
        "  paragraphs = article[\"paragraphs\"]\n",
        "  # Iterate over all paragraphs in an article\n",
        "  for par_idx in range(start_par_idx, min(start_par_idx + num_paragraphs, len(paragraphs))):\n",
        "    paragraph = paragraphs[par_idx]\n",
        "    par_replies = []\n",
        "    context = paragraph[\"context\"] # Substitute context here with the transcript if needed\n",
        "    questions = []\n",
        "    conversations = init_conversation.copy()\n",
        "    # Add questions to the list until reaching the maximum allowed, then get replies\n",
        "    for qs_idx in range(len(paragraph[\"qas\"])):\n",
        "      if (len(questions) == max_num_questions):\n",
        "        par_replies.extend(get_replies(context, questions, conversations, reminder, model_id))\n",
        "        # Clear questions.\n",
        "        questions = []\n",
        "      questions.append(paragraph[\"qas\"][qs_idx][\"question\"])\n",
        "    # Get replies for any remaining questions\n",
        "    if (len(questions) != 0):\n",
        "      par_replies.extend(get_replies(context, questions, conversations, reminder,  model_id))\n",
        "    # Add paragraph replies to article replies\n",
        "    art_replies.append(par_replies)\n",
        "  if (len(art_replies) != 0):\n",
        "    # Write replies as a JSON file\n",
        "     with open(f\"{art_idx}_{start_par_idx}_gpt3.5.json\", \"w\") as file:\n",
        "        json.dump(art_replies, file)"
      ],
      "metadata": {
        "id": "G7i4JOkzctji"
      },
      "execution_count": 19,
      "outputs": []
    },
    {
      "cell_type": "code",
      "source": [
        "\"\"\"\n",
        "This function initiates the process of writing replies generated by the ChatGPT model\n",
        "for multiple articles within a specified range. It takes an initial conversation, validation_data,\n",
        "and other parameters to control the extraction of replies and calls the write_replies function to\n",
        "store the generated replies as JSON files.\n",
        "\n",
        "Args:\n",
        "init_conversation (list): A list of dictionaries containing the initial conversation history with ChatGPT.\n",
        "validation_data (list): A list of dictionaries containing article data, including paragraphs and questions.\n",
        "start_art_idx (int): The starting index of the articles to process.\n",
        "end_art_idx (int): The ending index of the articles to process.\n",
        "start_par_idx (int): The starting index of the paragraphs to process.\n",
        "num_paragraphs (int): The number of paragraphs to process at once.\n",
        "max_num_questions (int): The maximum number of questions to process at once.\n",
        "model_id (str): The identifier for the ChatGPT model to be used for generating responses.\n",
        "\"\"\"\n",
        "\n",
        "def start_writing_replies(init_conversation, validation_data, start_art_idx, end_art_idx, start_par_idx, num_paragraphs, max_num_questions, model_id):\n",
        "  # Iterate over the specified range of articles\n",
        "  for art_idx in range(start_art_idx, end_art_idx + 1):\n",
        "    article = validation_data[art_idx]\n",
        "    paragraphs = article[\"paragraphs\"]\n",
        "    # Process paragraphs in increments defined by num_paragraphs\n",
        "    while (start_par_idx < len(paragraphs)):\n",
        "      # Call write_replies function to generate and store replies for the specified range of paragraphs\n",
        "      write_replies(init_conversation, validation_data, art_idx, start_par_idx, num_paragraphs, max_num_questions, model_id)\n",
        "      # Move to the next set of paragraphs\n",
        "      start_par_idx += num_paragraphs\n",
        "    # Reset the start_par_idx for the next article\n",
        "    start_par_idx = 0"
      ],
      "metadata": {
        "id": "mV1PeSovd3iJ"
      },
      "execution_count": 20,
      "outputs": []
    },
    {
      "cell_type": "code",
      "source": [
        "start_art_idx = 1\n",
        "end_art_idx = 5\n",
        "start_par_idx = 0\n",
        "num_paragraphs = 5\n",
        "start_writing_replies(init_conversation, validation_data, start_art_idx, end_art_idx, start_par_idx, num_paragraphs, max_num_questions, model_id)"
      ],
      "metadata": {
        "colab": {
          "base_uri": "https://localhost:8080/",
          "height": 1000
        },
        "id": "ETotMnAPgcti",
        "outputId": "69b38231-7799-4057-baf4-3ebbd92a8b44"
      },
      "execution_count": 21,
      "outputs": [
        {
          "output_type": "stream",
          "name": "stdout",
          "text": [
            "Context: [One of the most famous people born in Warsaw was Maria Skłodowska-Curie, who achieved international recognition for her research on radioactivity and was the first female recipient of the Nobel Prize. Famous musicians include Władysław Szpilman and Frédéric Chopin. Though Chopin was born in the village of Żelazowa Wola, about 60 km (37 mi) from Warsaw, he moved to the city with his family when he was seven months old. Casimir Pulaski, a Polish general and hero of the American Revolutionary War, was born here in 1745.].\n",
            " Questions: 1) [What was Maria Curie the first female recipient of?]; 2) [What year was Casimir Pulaski born in Warsaw?]; 3) [Who was one of the most famous people born in Warsaw?]; 4) [Who was Frédéric Chopin?]; 5) [How old was Chopin when he moved to Warsaw with his family?].\n",
            "Remember: All answers must be exact substrings from the 'Context' string. Do not paraphrase or modify the answers. Keep your answers concise, typically containing a single number, date, name, etc. Don't use punctuation marks at the end of the answer. Provide longer answers with more than 3 words only when necessary.\n",
            "assistant: Question1: [What was Maria Curie the first female recipient of?];\n",
            " Reply1: [the Nobel Prize];\n",
            " Question2: [What year was Casimir Pulaski born in Warsaw?];\n",
            " Reply2: [1745];\n",
            " Question3: [Who was one of the most famous people born in Warsaw?];\n",
            " Reply3: [Maria Skłodowska-Curie];\n",
            " Question4: [Who was Frédéric Chopin?];\n",
            " Reply4: [a famous musician];\n",
            " Question5: [How old was Chopin when he moved to Warsaw with his family?];\n",
            " Reply5: [seven months old].\n",
            "\n",
            "Context: [The Saxon Garden, covering the area of 15.5 ha, was formally a royal garden. There are over 100 different species of trees and the avenues are a place to sit and relax. At the east end of the park, the Tomb of the Unknown Soldier is situated. In the 19th century the Krasiński Palace Garden was remodelled by Franciszek Szanior. Within the central area of the park one can still find old trees dating from that period: maidenhair tree, black walnut, Turkish hazel and Caucasian wingnut trees. With its benches, flower carpets, a pond with ducks on and a playground for kids, the Krasiński Palace Garden is a popular strolling destination for the Varsovians. The Monument of the Warsaw Ghetto Uprising is also situated here. The Łazienki Park covers the area of 76 ha. The unique character and history of the park is reflected in its landscape architecture (pavilions, sculptures, bridges, cascades, ponds) and vegetation (domestic and foreign species of trees and bushes). What makes this park different from other green spaces in Warsaw is the presence of peacocks and pheasants, which can be seen here walking around freely, and royal carps in the pond. The Wilanów Palace Park, dates back to the second half of the 17th century. It covers the area of 43 ha. Its central French-styled area corresponds to the ancient, baroque forms of the palace. The eastern section of the park, closest to the Palace, is the two-level garden with a terrace facing the pond. The park around the Królikarnia Palace is situated on the old escarpment of the Vistula. The park has lanes running on a few levels deep into the ravines on both sides of the palace.].\n",
            " Questions: 1) [Over how many species of trees can be found in the Saxon Garden?]; 2) [What is a popular strolling destination for the Varsovians?]; 3) [What garden was formally only for royalty?]; 4) [Which end of the Saxon Garden is the Tom of the Unknown Soldier located at?]; 5) [What park covers an area of 76 ha.?].\n",
            "Remember: All answers must be exact substrings from the 'Context' string. Do not paraphrase or modify the answers. Keep your answers concise, typically containing a single number, date, name, etc. Don't use punctuation marks at the end of the answer. Provide longer answers with more than 3 words only when necessary.\n",
            "assistant: Question1: [Over how many species of trees can be found in the Saxon Garden?];\n",
            " Reply1: [over 100];\n",
            " Question2: [What is a popular strolling destination for the Varsovians?];\n",
            " Reply2: [Krasiński Palace Garden];\n",
            " Question3: [What garden was formally only for royalty?];\n",
            " Reply3: [Saxon Garden];\n",
            " Question4: [Which end of the Saxon Garden is the Tomb of the Unknown Soldier located at?];\n",
            " Reply4: [east end];\n",
            " Question5: [What park covers an area of 76 ha.?];\n",
            " Reply5: [Łazienki Park].\n",
            "\n",
            "Context: [There are 13 natural reserves in Warsaw – among others, Bielany Forest, Kabaty Woods, Czerniaków Lake. About 15 kilometres (9 miles) from Warsaw, the Vistula river's environment changes strikingly and features a perfectly preserved ecosystem, with a habitat of animals that includes the otter, beaver and hundreds of bird species. There are also several lakes in Warsaw – mainly the oxbow lakes, like Czerniaków Lake, the lakes in the Łazienki or Wilanów Parks, Kamionek Lake. There are lot of small lakes in the parks, but only a few are permanent – the majority are emptied before winter to clean them of plants and sediments.].\n",
            " Questions: 1) [How far from Warsaw does the Vistula river's environment change noticeably? ]; 2) [What animals does the Vistula river's ecosystem include?]; 3) [How many natural reserves are in Warsaw?]; 4) [How many lakes are there in Warsaw?]; 5) [Why are the small lakes in the parks emptied before winter?].\n",
            "Remember: All answers must be exact substrings from the 'Context' string. Do not paraphrase or modify the answers. Keep your answers concise, typically containing a single number, date, name, etc. Don't use punctuation marks at the end of the answer. Provide longer answers with more than 3 words only when necessary.\n",
            "assistant: Question1: [How far from Warsaw does the Vistula river's environment change noticeably? ];\n",
            " Reply1: [About 15 kilometres (9 miles)];\n",
            " Question2: [What animals does the Vistula river's ecosystem include?];\n",
            " Reply2: [otter, beaver, and hundreds of bird species];\n",
            " Question3: [How many natural reserves are in Warsaw?];\n",
            " Reply3: [13];\n",
            " Question4: [How many lakes are there in Warsaw?];\n",
            " Reply4: [Several, with only a few permanent ones.];\n",
            " Question5: [Why are the small lakes in the parks emptied before winter?];\n",
            " Reply5: [To clean them of plants and sediments].\n",
            "\n",
            "Context: [Demographically, it was the most diverse city in Poland, with significant numbers of foreign-born inhabitants. In addition to the Polish majority, there was a significant Jewish minority in Warsaw. According to Russian census of 1897, out of the total population of 638,000, Jews constituted 219,000 (around 34% percent). Warsaw's prewar Jewish population of more than 350,000 constituted about 30 percent of the city's total population. In 1933, out of 1,178,914 inhabitants 833,500 were of Polish mother tongue. World War II changed the demographics of the city, and to this day there is much less ethnic diversity than in the previous 300 years of Warsaw's history. Most of the modern day population growth is based on internal migration and urbanisation.].\n",
            " Questions: 1) [What was Warsaw the most diverse of in Poland?]; 2) [How many of Warsaw's inhabitants spoke Polish in 1933?]; 3) [What percentage of the population of Warsaw was Jewish in 1897?]; 4) [What was there a significant minority of in Warsaw?]; 5) [What is most of Warsaw's modern growth based on?].\n",
            "Remember: All answers must be exact substrings from the 'Context' string. Do not paraphrase or modify the answers. Keep your answers concise, typically containing a single number, date, name, etc. Don't use punctuation marks at the end of the answer. Provide longer answers with more than 3 words only when necessary.\n",
            "assistant: Question1: [What was Warsaw the most diverse of in Poland?];\n",
            " Reply1: [city];\n",
            " Question2: [How many of Warsaw's inhabitants spoke Polish in 1933?];\n",
            " Reply2: [833,500];\n",
            " Question3: [What percentage of the population of Warsaw was Jewish in 1897?];\n",
            " Reply3: [around 34% percent];\n",
            " Question4: [What was there a significant minority of in Warsaw?];\n",
            " Reply4: [Jewish community/Jews];\n",
            " Question5: [What is most of Warsaw's modern growth based on?];\n",
            " Reply5: [internal migration and urbanisation].\n",
            "\n",
            "Context: [The University of Warsaw was established in 1816, when the partitions of Poland separated Warsaw from the oldest and most influential Polish academic center, in Kraków. Warsaw University of Technology is the second academic school of technology in the country, and one of the largest in East-Central Europe, employing 2,000 professors. Other institutions for higher education include the Medical University of Warsaw, the largest medical school in Poland and one of the most prestigious, the National Defence University, highest military academic institution in Poland, the Fryderyk Chopin University of Music the oldest and largest music school in Poland, and one of the largest in Europe, the Warsaw School of Economics, the oldest and most renowned economic university in the country, and the Warsaw University of Life Sciences the largest agricultural university founded in 1818.].\n",
            " Questions: 1) [What is the second academic school of technology in Poland?]; 2) [How many professors does the Warsaw University of Technology employ?]; 3) [What is the largest medical school in Poland?]; 4) [What year was the University of Warsaw established?]; 5) [What is one of the largest music schools in Europe?].\n",
            "Remember: All answers must be exact substrings from the 'Context' string. Do not paraphrase or modify the answers. Keep your answers concise, typically containing a single number, date, name, etc. Don't use punctuation marks at the end of the answer. Provide longer answers with more than 3 words only when necessary.\n"
          ]
        },
        {
          "output_type": "error",
          "ename": "KeyboardInterrupt",
          "evalue": "ignored",
          "traceback": [
            "\u001b[0;31m---------------------------------------------------------------------------\u001b[0m",
            "\u001b[0;31mKeyboardInterrupt\u001b[0m                         Traceback (most recent call last)",
            "\u001b[0;32m<ipython-input-21-b1bb34e55708>\u001b[0m in \u001b[0;36m<cell line: 5>\u001b[0;34m()\u001b[0m\n\u001b[1;32m      3\u001b[0m \u001b[0mstart_par_idx\u001b[0m \u001b[0;34m=\u001b[0m \u001b[0;36m0\u001b[0m\u001b[0;34m\u001b[0m\u001b[0;34m\u001b[0m\u001b[0m\n\u001b[1;32m      4\u001b[0m \u001b[0mnum_paragraphs\u001b[0m \u001b[0;34m=\u001b[0m \u001b[0;36m5\u001b[0m\u001b[0;34m\u001b[0m\u001b[0;34m\u001b[0m\u001b[0m\n\u001b[0;32m----> 5\u001b[0;31m \u001b[0mstart_writing_replies\u001b[0m\u001b[0;34m(\u001b[0m\u001b[0minit_conversation\u001b[0m\u001b[0;34m,\u001b[0m \u001b[0mvalidation_data\u001b[0m\u001b[0;34m,\u001b[0m \u001b[0mstart_art_idx\u001b[0m\u001b[0;34m,\u001b[0m \u001b[0mend_art_idx\u001b[0m\u001b[0;34m,\u001b[0m \u001b[0mstart_par_idx\u001b[0m\u001b[0;34m,\u001b[0m \u001b[0mnum_paragraphs\u001b[0m\u001b[0;34m,\u001b[0m \u001b[0mmax_num_questions\u001b[0m\u001b[0;34m,\u001b[0m \u001b[0mmodel_id\u001b[0m\u001b[0;34m)\u001b[0m\u001b[0;34m\u001b[0m\u001b[0;34m\u001b[0m\u001b[0m\n\u001b[0m",
            "\u001b[0;32m<ipython-input-20-496ae5e91155>\u001b[0m in \u001b[0;36mstart_writing_replies\u001b[0;34m(init_conversation, validation_data, start_art_idx, end_art_idx, start_par_idx, num_paragraphs, max_num_questions, model_id)\u001b[0m\n\u001b[1;32m     24\u001b[0m     \u001b[0;32mwhile\u001b[0m \u001b[0;34m(\u001b[0m\u001b[0mstart_par_idx\u001b[0m \u001b[0;34m<\u001b[0m \u001b[0mlen\u001b[0m\u001b[0;34m(\u001b[0m\u001b[0mparagraphs\u001b[0m\u001b[0;34m)\u001b[0m\u001b[0;34m)\u001b[0m\u001b[0;34m:\u001b[0m\u001b[0;34m\u001b[0m\u001b[0;34m\u001b[0m\u001b[0m\n\u001b[1;32m     25\u001b[0m       \u001b[0;31m# Call write_replies function to generate and store replies for the specified range of paragraphs\u001b[0m\u001b[0;34m\u001b[0m\u001b[0;34m\u001b[0m\u001b[0m\n\u001b[0;32m---> 26\u001b[0;31m       \u001b[0mwrite_replies\u001b[0m\u001b[0;34m(\u001b[0m\u001b[0minit_conversation\u001b[0m\u001b[0;34m,\u001b[0m \u001b[0mvalidation_data\u001b[0m\u001b[0;34m,\u001b[0m \u001b[0mart_idx\u001b[0m\u001b[0;34m,\u001b[0m \u001b[0mstart_par_idx\u001b[0m\u001b[0;34m,\u001b[0m \u001b[0mnum_paragraphs\u001b[0m\u001b[0;34m,\u001b[0m \u001b[0mmax_num_questions\u001b[0m\u001b[0;34m,\u001b[0m \u001b[0mmodel_id\u001b[0m\u001b[0;34m)\u001b[0m\u001b[0;34m\u001b[0m\u001b[0;34m\u001b[0m\u001b[0m\n\u001b[0m\u001b[1;32m     27\u001b[0m       \u001b[0;31m# Move to the next set of paragraphs\u001b[0m\u001b[0;34m\u001b[0m\u001b[0;34m\u001b[0m\u001b[0m\n\u001b[1;32m     28\u001b[0m       \u001b[0mstart_par_idx\u001b[0m \u001b[0;34m+=\u001b[0m \u001b[0mnum_paragraphs\u001b[0m\u001b[0;34m\u001b[0m\u001b[0;34m\u001b[0m\u001b[0m\n",
            "\u001b[0;32m<ipython-input-19-7298272dba34>\u001b[0m in \u001b[0;36mwrite_replies\u001b[0;34m(init_conversation, validation_data, art_idx, start_par_idx, num_paragraphs, max_num_questions, model_id)\u001b[0m\n\u001b[1;32m     33\u001b[0m     \u001b[0;31m# Get replies for any remaining questions\u001b[0m\u001b[0;34m\u001b[0m\u001b[0;34m\u001b[0m\u001b[0m\n\u001b[1;32m     34\u001b[0m     \u001b[0;32mif\u001b[0m \u001b[0;34m(\u001b[0m\u001b[0mlen\u001b[0m\u001b[0;34m(\u001b[0m\u001b[0mquestions\u001b[0m\u001b[0;34m)\u001b[0m \u001b[0;34m!=\u001b[0m \u001b[0;36m0\u001b[0m\u001b[0;34m)\u001b[0m\u001b[0;34m:\u001b[0m\u001b[0;34m\u001b[0m\u001b[0;34m\u001b[0m\u001b[0m\n\u001b[0;32m---> 35\u001b[0;31m       \u001b[0mpar_replies\u001b[0m\u001b[0;34m.\u001b[0m\u001b[0mextend\u001b[0m\u001b[0;34m(\u001b[0m\u001b[0mget_replies\u001b[0m\u001b[0;34m(\u001b[0m\u001b[0mcontext\u001b[0m\u001b[0;34m,\u001b[0m \u001b[0mquestions\u001b[0m\u001b[0;34m,\u001b[0m \u001b[0mconversations\u001b[0m\u001b[0;34m,\u001b[0m \u001b[0mreminder\u001b[0m\u001b[0;34m,\u001b[0m  \u001b[0mmodel_id\u001b[0m\u001b[0;34m)\u001b[0m\u001b[0;34m)\u001b[0m\u001b[0;34m\u001b[0m\u001b[0;34m\u001b[0m\u001b[0m\n\u001b[0m\u001b[1;32m     36\u001b[0m     \u001b[0;31m# Add paragraph replies to article replies\u001b[0m\u001b[0;34m\u001b[0m\u001b[0;34m\u001b[0m\u001b[0m\n\u001b[1;32m     37\u001b[0m     \u001b[0mart_replies\u001b[0m\u001b[0;34m.\u001b[0m\u001b[0mappend\u001b[0m\u001b[0;34m(\u001b[0m\u001b[0mpar_replies\u001b[0m\u001b[0;34m)\u001b[0m\u001b[0;34m\u001b[0m\u001b[0;34m\u001b[0m\u001b[0m\n",
            "\u001b[0;32m<ipython-input-18-6a963c46ed32>\u001b[0m in \u001b[0;36mget_replies\u001b[0;34m(context, questions, conversations, reminder, model_id)\u001b[0m\n\u001b[1;32m     20\u001b[0m     conversations.append({'role': 'user', \n\u001b[1;32m     21\u001b[0m                           'content': create_user_msg(context, questions, reminder)})\n\u001b[0;32m---> 22\u001b[0;31m     \u001b[0mconversations\u001b[0m \u001b[0;34m=\u001b[0m \u001b[0mchatgpt_conversation\u001b[0m\u001b[0;34m(\u001b[0m\u001b[0mconversations\u001b[0m\u001b[0;34m,\u001b[0m \u001b[0mmodel_id\u001b[0m\u001b[0;34m)\u001b[0m\u001b[0;34m\u001b[0m\u001b[0;34m\u001b[0m\u001b[0m\n\u001b[0m\u001b[1;32m     23\u001b[0m     \u001b[0;31m# Extract the content of the latest response from ChatGPT\u001b[0m\u001b[0;34m\u001b[0m\u001b[0;34m\u001b[0m\u001b[0m\n\u001b[1;32m     24\u001b[0m     \u001b[0manswer\u001b[0m \u001b[0;34m=\u001b[0m \u001b[0mconversations\u001b[0m\u001b[0;34m[\u001b[0m\u001b[0;34m-\u001b[0m\u001b[0;36m1\u001b[0m\u001b[0;34m]\u001b[0m\u001b[0;34m[\u001b[0m\u001b[0;34m'content'\u001b[0m\u001b[0;34m]\u001b[0m\u001b[0;34m\u001b[0m\u001b[0;34m\u001b[0m\u001b[0m\n",
            "\u001b[0;32m<ipython-input-1-96ace03683c9>\u001b[0m in \u001b[0;36mchatgpt_conversation\u001b[0;34m(conversation_log, model_id)\u001b[0m\n\u001b[1;32m     16\u001b[0m \u001b[0;32mdef\u001b[0m \u001b[0mchatgpt_conversation\u001b[0m\u001b[0;34m(\u001b[0m\u001b[0mconversation_log\u001b[0m\u001b[0;34m,\u001b[0m \u001b[0mmodel_id\u001b[0m\u001b[0;34m)\u001b[0m\u001b[0;34m:\u001b[0m\u001b[0;34m\u001b[0m\u001b[0;34m\u001b[0m\u001b[0m\n\u001b[1;32m     17\u001b[0m   \u001b[0;31m# Generate an initial response from the ChatGPT model based on the conversation log\u001b[0m\u001b[0;34m\u001b[0m\u001b[0;34m\u001b[0m\u001b[0m\n\u001b[0;32m---> 18\u001b[0;31m   response = openai.ChatCompletion.create(\n\u001b[0m\u001b[1;32m     19\u001b[0m         \u001b[0mmodel\u001b[0m\u001b[0;34m=\u001b[0m\u001b[0mmodel_id\u001b[0m\u001b[0;34m,\u001b[0m\u001b[0;34m\u001b[0m\u001b[0;34m\u001b[0m\u001b[0m\n\u001b[1;32m     20\u001b[0m         \u001b[0mmessages\u001b[0m\u001b[0;34m=\u001b[0m\u001b[0mconversation_log\u001b[0m\u001b[0;34m\u001b[0m\u001b[0;34m\u001b[0m\u001b[0m\n",
            "\u001b[0;32m/usr/local/lib/python3.10/dist-packages/openai/api_resources/chat_completion.py\u001b[0m in \u001b[0;36mcreate\u001b[0;34m(cls, *args, **kwargs)\u001b[0m\n\u001b[1;32m     23\u001b[0m         \u001b[0;32mwhile\u001b[0m \u001b[0;32mTrue\u001b[0m\u001b[0;34m:\u001b[0m\u001b[0;34m\u001b[0m\u001b[0;34m\u001b[0m\u001b[0m\n\u001b[1;32m     24\u001b[0m             \u001b[0;32mtry\u001b[0m\u001b[0;34m:\u001b[0m\u001b[0;34m\u001b[0m\u001b[0;34m\u001b[0m\u001b[0m\n\u001b[0;32m---> 25\u001b[0;31m                 \u001b[0;32mreturn\u001b[0m \u001b[0msuper\u001b[0m\u001b[0;34m(\u001b[0m\u001b[0;34m)\u001b[0m\u001b[0;34m.\u001b[0m\u001b[0mcreate\u001b[0m\u001b[0;34m(\u001b[0m\u001b[0;34m*\u001b[0m\u001b[0margs\u001b[0m\u001b[0;34m,\u001b[0m \u001b[0;34m**\u001b[0m\u001b[0mkwargs\u001b[0m\u001b[0;34m)\u001b[0m\u001b[0;34m\u001b[0m\u001b[0;34m\u001b[0m\u001b[0m\n\u001b[0m\u001b[1;32m     26\u001b[0m             \u001b[0;32mexcept\u001b[0m \u001b[0mTryAgain\u001b[0m \u001b[0;32mas\u001b[0m \u001b[0me\u001b[0m\u001b[0;34m:\u001b[0m\u001b[0;34m\u001b[0m\u001b[0;34m\u001b[0m\u001b[0m\n\u001b[1;32m     27\u001b[0m                 \u001b[0;32mif\u001b[0m \u001b[0mtimeout\u001b[0m \u001b[0;32mis\u001b[0m \u001b[0;32mnot\u001b[0m \u001b[0;32mNone\u001b[0m \u001b[0;32mand\u001b[0m \u001b[0mtime\u001b[0m\u001b[0;34m.\u001b[0m\u001b[0mtime\u001b[0m\u001b[0;34m(\u001b[0m\u001b[0;34m)\u001b[0m \u001b[0;34m>\u001b[0m \u001b[0mstart\u001b[0m \u001b[0;34m+\u001b[0m \u001b[0mtimeout\u001b[0m\u001b[0;34m:\u001b[0m\u001b[0;34m\u001b[0m\u001b[0;34m\u001b[0m\u001b[0m\n",
            "\u001b[0;32m/usr/local/lib/python3.10/dist-packages/openai/api_resources/abstract/engine_api_resource.py\u001b[0m in \u001b[0;36mcreate\u001b[0;34m(cls, api_key, api_base, api_type, request_id, api_version, organization, **params)\u001b[0m\n\u001b[1;32m    151\u001b[0m         )\n\u001b[1;32m    152\u001b[0m \u001b[0;34m\u001b[0m\u001b[0m\n\u001b[0;32m--> 153\u001b[0;31m         response, _, api_key = requestor.request(\n\u001b[0m\u001b[1;32m    154\u001b[0m             \u001b[0;34m\"post\"\u001b[0m\u001b[0;34m,\u001b[0m\u001b[0;34m\u001b[0m\u001b[0;34m\u001b[0m\u001b[0m\n\u001b[1;32m    155\u001b[0m             \u001b[0murl\u001b[0m\u001b[0;34m,\u001b[0m\u001b[0;34m\u001b[0m\u001b[0;34m\u001b[0m\u001b[0m\n",
            "\u001b[0;32m/usr/local/lib/python3.10/dist-packages/openai/api_requestor.py\u001b[0m in \u001b[0;36mrequest\u001b[0;34m(self, method, url, params, headers, files, stream, request_id, request_timeout)\u001b[0m\n\u001b[1;32m    214\u001b[0m         \u001b[0mrequest_timeout\u001b[0m\u001b[0;34m:\u001b[0m \u001b[0mOptional\u001b[0m\u001b[0;34m[\u001b[0m\u001b[0mUnion\u001b[0m\u001b[0;34m[\u001b[0m\u001b[0mfloat\u001b[0m\u001b[0;34m,\u001b[0m \u001b[0mTuple\u001b[0m\u001b[0;34m[\u001b[0m\u001b[0mfloat\u001b[0m\u001b[0;34m,\u001b[0m \u001b[0mfloat\u001b[0m\u001b[0;34m]\u001b[0m\u001b[0;34m]\u001b[0m\u001b[0;34m]\u001b[0m \u001b[0;34m=\u001b[0m \u001b[0;32mNone\u001b[0m\u001b[0;34m,\u001b[0m\u001b[0;34m\u001b[0m\u001b[0;34m\u001b[0m\u001b[0m\n\u001b[1;32m    215\u001b[0m     ) -> Tuple[Union[OpenAIResponse, Iterator[OpenAIResponse]], bool, str]:\n\u001b[0;32m--> 216\u001b[0;31m         result = self.request_raw(\n\u001b[0m\u001b[1;32m    217\u001b[0m             \u001b[0mmethod\u001b[0m\u001b[0;34m.\u001b[0m\u001b[0mlower\u001b[0m\u001b[0;34m(\u001b[0m\u001b[0;34m)\u001b[0m\u001b[0;34m,\u001b[0m\u001b[0;34m\u001b[0m\u001b[0;34m\u001b[0m\u001b[0m\n\u001b[1;32m    218\u001b[0m             \u001b[0murl\u001b[0m\u001b[0;34m,\u001b[0m\u001b[0;34m\u001b[0m\u001b[0;34m\u001b[0m\u001b[0m\n",
            "\u001b[0;32m/usr/local/lib/python3.10/dist-packages/openai/api_requestor.py\u001b[0m in \u001b[0;36mrequest_raw\u001b[0;34m(self, method, url, params, supplied_headers, files, stream, request_id, request_timeout)\u001b[0m\n\u001b[1;32m    514\u001b[0m             \u001b[0m_thread_context\u001b[0m\u001b[0;34m.\u001b[0m\u001b[0msession\u001b[0m \u001b[0;34m=\u001b[0m \u001b[0m_make_session\u001b[0m\u001b[0;34m(\u001b[0m\u001b[0;34m)\u001b[0m\u001b[0;34m\u001b[0m\u001b[0;34m\u001b[0m\u001b[0m\n\u001b[1;32m    515\u001b[0m         \u001b[0;32mtry\u001b[0m\u001b[0;34m:\u001b[0m\u001b[0;34m\u001b[0m\u001b[0;34m\u001b[0m\u001b[0m\n\u001b[0;32m--> 516\u001b[0;31m             result = _thread_context.session.request(\n\u001b[0m\u001b[1;32m    517\u001b[0m                 \u001b[0mmethod\u001b[0m\u001b[0;34m,\u001b[0m\u001b[0;34m\u001b[0m\u001b[0;34m\u001b[0m\u001b[0m\n\u001b[1;32m    518\u001b[0m                 \u001b[0mabs_url\u001b[0m\u001b[0;34m,\u001b[0m\u001b[0;34m\u001b[0m\u001b[0;34m\u001b[0m\u001b[0m\n",
            "\u001b[0;32m/usr/local/lib/python3.10/dist-packages/requests/sessions.py\u001b[0m in \u001b[0;36mrequest\u001b[0;34m(self, method, url, params, data, headers, cookies, files, auth, timeout, allow_redirects, proxies, hooks, stream, verify, cert, json)\u001b[0m\n\u001b[1;32m    527\u001b[0m         }\n\u001b[1;32m    528\u001b[0m         \u001b[0msend_kwargs\u001b[0m\u001b[0;34m.\u001b[0m\u001b[0mupdate\u001b[0m\u001b[0;34m(\u001b[0m\u001b[0msettings\u001b[0m\u001b[0;34m)\u001b[0m\u001b[0;34m\u001b[0m\u001b[0;34m\u001b[0m\u001b[0m\n\u001b[0;32m--> 529\u001b[0;31m         \u001b[0mresp\u001b[0m \u001b[0;34m=\u001b[0m \u001b[0mself\u001b[0m\u001b[0;34m.\u001b[0m\u001b[0msend\u001b[0m\u001b[0;34m(\u001b[0m\u001b[0mprep\u001b[0m\u001b[0;34m,\u001b[0m \u001b[0;34m**\u001b[0m\u001b[0msend_kwargs\u001b[0m\u001b[0;34m)\u001b[0m\u001b[0;34m\u001b[0m\u001b[0;34m\u001b[0m\u001b[0m\n\u001b[0m\u001b[1;32m    530\u001b[0m \u001b[0;34m\u001b[0m\u001b[0m\n\u001b[1;32m    531\u001b[0m         \u001b[0;32mreturn\u001b[0m \u001b[0mresp\u001b[0m\u001b[0;34m\u001b[0m\u001b[0;34m\u001b[0m\u001b[0m\n",
            "\u001b[0;32m/usr/local/lib/python3.10/dist-packages/requests/sessions.py\u001b[0m in \u001b[0;36msend\u001b[0;34m(self, request, **kwargs)\u001b[0m\n\u001b[1;32m    643\u001b[0m \u001b[0;34m\u001b[0m\u001b[0m\n\u001b[1;32m    644\u001b[0m         \u001b[0;31m# Send the request\u001b[0m\u001b[0;34m\u001b[0m\u001b[0;34m\u001b[0m\u001b[0m\n\u001b[0;32m--> 645\u001b[0;31m         \u001b[0mr\u001b[0m \u001b[0;34m=\u001b[0m \u001b[0madapter\u001b[0m\u001b[0;34m.\u001b[0m\u001b[0msend\u001b[0m\u001b[0;34m(\u001b[0m\u001b[0mrequest\u001b[0m\u001b[0;34m,\u001b[0m \u001b[0;34m**\u001b[0m\u001b[0mkwargs\u001b[0m\u001b[0;34m)\u001b[0m\u001b[0;34m\u001b[0m\u001b[0;34m\u001b[0m\u001b[0m\n\u001b[0m\u001b[1;32m    646\u001b[0m \u001b[0;34m\u001b[0m\u001b[0m\n\u001b[1;32m    647\u001b[0m         \u001b[0;31m# Total elapsed time of the request (approximately)\u001b[0m\u001b[0;34m\u001b[0m\u001b[0;34m\u001b[0m\u001b[0m\n",
            "\u001b[0;32m/usr/local/lib/python3.10/dist-packages/requests/adapters.py\u001b[0m in \u001b[0;36msend\u001b[0;34m(self, request, stream, timeout, verify, cert, proxies)\u001b[0m\n\u001b[1;32m    438\u001b[0m         \u001b[0;32mtry\u001b[0m\u001b[0;34m:\u001b[0m\u001b[0;34m\u001b[0m\u001b[0;34m\u001b[0m\u001b[0m\n\u001b[1;32m    439\u001b[0m             \u001b[0;32mif\u001b[0m \u001b[0;32mnot\u001b[0m \u001b[0mchunked\u001b[0m\u001b[0;34m:\u001b[0m\u001b[0;34m\u001b[0m\u001b[0;34m\u001b[0m\u001b[0m\n\u001b[0;32m--> 440\u001b[0;31m                 resp = conn.urlopen(\n\u001b[0m\u001b[1;32m    441\u001b[0m                     \u001b[0mmethod\u001b[0m\u001b[0;34m=\u001b[0m\u001b[0mrequest\u001b[0m\u001b[0;34m.\u001b[0m\u001b[0mmethod\u001b[0m\u001b[0;34m,\u001b[0m\u001b[0;34m\u001b[0m\u001b[0;34m\u001b[0m\u001b[0m\n\u001b[1;32m    442\u001b[0m                     \u001b[0murl\u001b[0m\u001b[0;34m=\u001b[0m\u001b[0murl\u001b[0m\u001b[0;34m,\u001b[0m\u001b[0;34m\u001b[0m\u001b[0;34m\u001b[0m\u001b[0m\n",
            "\u001b[0;32m/usr/local/lib/python3.10/dist-packages/urllib3/connectionpool.py\u001b[0m in \u001b[0;36murlopen\u001b[0;34m(self, method, url, body, headers, retries, redirect, assert_same_host, timeout, pool_timeout, release_conn, chunked, body_pos, **response_kw)\u001b[0m\n\u001b[1;32m    701\u001b[0m \u001b[0;34m\u001b[0m\u001b[0m\n\u001b[1;32m    702\u001b[0m             \u001b[0;31m# Make the request on the httplib connection object.\u001b[0m\u001b[0;34m\u001b[0m\u001b[0;34m\u001b[0m\u001b[0m\n\u001b[0;32m--> 703\u001b[0;31m             httplib_response = self._make_request(\n\u001b[0m\u001b[1;32m    704\u001b[0m                 \u001b[0mconn\u001b[0m\u001b[0;34m,\u001b[0m\u001b[0;34m\u001b[0m\u001b[0;34m\u001b[0m\u001b[0m\n\u001b[1;32m    705\u001b[0m                 \u001b[0mmethod\u001b[0m\u001b[0;34m,\u001b[0m\u001b[0;34m\u001b[0m\u001b[0;34m\u001b[0m\u001b[0m\n",
            "\u001b[0;32m/usr/local/lib/python3.10/dist-packages/urllib3/connectionpool.py\u001b[0m in \u001b[0;36m_make_request\u001b[0;34m(self, conn, method, url, timeout, chunked, **httplib_request_kw)\u001b[0m\n\u001b[1;32m    447\u001b[0m                     \u001b[0;31m# Python 3 (including for exceptions like SystemExit).\u001b[0m\u001b[0;34m\u001b[0m\u001b[0;34m\u001b[0m\u001b[0m\n\u001b[1;32m    448\u001b[0m                     \u001b[0;31m# Otherwise it looks like a bug in the code.\u001b[0m\u001b[0;34m\u001b[0m\u001b[0;34m\u001b[0m\u001b[0m\n\u001b[0;32m--> 449\u001b[0;31m                     \u001b[0msix\u001b[0m\u001b[0;34m.\u001b[0m\u001b[0mraise_from\u001b[0m\u001b[0;34m(\u001b[0m\u001b[0me\u001b[0m\u001b[0;34m,\u001b[0m \u001b[0;32mNone\u001b[0m\u001b[0;34m)\u001b[0m\u001b[0;34m\u001b[0m\u001b[0;34m\u001b[0m\u001b[0m\n\u001b[0m\u001b[1;32m    450\u001b[0m         \u001b[0;32mexcept\u001b[0m \u001b[0;34m(\u001b[0m\u001b[0mSocketTimeout\u001b[0m\u001b[0;34m,\u001b[0m \u001b[0mBaseSSLError\u001b[0m\u001b[0;34m,\u001b[0m \u001b[0mSocketError\u001b[0m\u001b[0;34m)\u001b[0m \u001b[0;32mas\u001b[0m \u001b[0me\u001b[0m\u001b[0;34m:\u001b[0m\u001b[0;34m\u001b[0m\u001b[0;34m\u001b[0m\u001b[0m\n\u001b[1;32m    451\u001b[0m             \u001b[0mself\u001b[0m\u001b[0;34m.\u001b[0m\u001b[0m_raise_timeout\u001b[0m\u001b[0;34m(\u001b[0m\u001b[0merr\u001b[0m\u001b[0;34m=\u001b[0m\u001b[0me\u001b[0m\u001b[0;34m,\u001b[0m \u001b[0murl\u001b[0m\u001b[0;34m=\u001b[0m\u001b[0murl\u001b[0m\u001b[0;34m,\u001b[0m \u001b[0mtimeout_value\u001b[0m\u001b[0;34m=\u001b[0m\u001b[0mread_timeout\u001b[0m\u001b[0;34m)\u001b[0m\u001b[0;34m\u001b[0m\u001b[0;34m\u001b[0m\u001b[0m\n",
            "\u001b[0;32m/usr/local/lib/python3.10/dist-packages/urllib3/packages/six.py\u001b[0m in \u001b[0;36mraise_from\u001b[0;34m(value, from_value)\u001b[0m\n",
            "\u001b[0;32m/usr/local/lib/python3.10/dist-packages/urllib3/connectionpool.py\u001b[0m in \u001b[0;36m_make_request\u001b[0;34m(self, conn, method, url, timeout, chunked, **httplib_request_kw)\u001b[0m\n\u001b[1;32m    442\u001b[0m                 \u001b[0;31m# Python 3\u001b[0m\u001b[0;34m\u001b[0m\u001b[0;34m\u001b[0m\u001b[0m\n\u001b[1;32m    443\u001b[0m                 \u001b[0;32mtry\u001b[0m\u001b[0;34m:\u001b[0m\u001b[0;34m\u001b[0m\u001b[0;34m\u001b[0m\u001b[0m\n\u001b[0;32m--> 444\u001b[0;31m                     \u001b[0mhttplib_response\u001b[0m \u001b[0;34m=\u001b[0m \u001b[0mconn\u001b[0m\u001b[0;34m.\u001b[0m\u001b[0mgetresponse\u001b[0m\u001b[0;34m(\u001b[0m\u001b[0;34m)\u001b[0m\u001b[0;34m\u001b[0m\u001b[0;34m\u001b[0m\u001b[0m\n\u001b[0m\u001b[1;32m    445\u001b[0m                 \u001b[0;32mexcept\u001b[0m \u001b[0mBaseException\u001b[0m \u001b[0;32mas\u001b[0m \u001b[0me\u001b[0m\u001b[0;34m:\u001b[0m\u001b[0;34m\u001b[0m\u001b[0;34m\u001b[0m\u001b[0m\n\u001b[1;32m    446\u001b[0m                     \u001b[0;31m# Remove the TypeError from the exception chain in\u001b[0m\u001b[0;34m\u001b[0m\u001b[0;34m\u001b[0m\u001b[0m\n",
            "\u001b[0;32m/usr/lib/python3.10/http/client.py\u001b[0m in \u001b[0;36mgetresponse\u001b[0;34m(self)\u001b[0m\n\u001b[1;32m   1373\u001b[0m         \u001b[0;32mtry\u001b[0m\u001b[0;34m:\u001b[0m\u001b[0;34m\u001b[0m\u001b[0;34m\u001b[0m\u001b[0m\n\u001b[1;32m   1374\u001b[0m             \u001b[0;32mtry\u001b[0m\u001b[0;34m:\u001b[0m\u001b[0;34m\u001b[0m\u001b[0;34m\u001b[0m\u001b[0m\n\u001b[0;32m-> 1375\u001b[0;31m                 \u001b[0mresponse\u001b[0m\u001b[0;34m.\u001b[0m\u001b[0mbegin\u001b[0m\u001b[0;34m(\u001b[0m\u001b[0;34m)\u001b[0m\u001b[0;34m\u001b[0m\u001b[0;34m\u001b[0m\u001b[0m\n\u001b[0m\u001b[1;32m   1376\u001b[0m             \u001b[0;32mexcept\u001b[0m \u001b[0mConnectionError\u001b[0m\u001b[0;34m:\u001b[0m\u001b[0;34m\u001b[0m\u001b[0;34m\u001b[0m\u001b[0m\n\u001b[1;32m   1377\u001b[0m                 \u001b[0mself\u001b[0m\u001b[0;34m.\u001b[0m\u001b[0mclose\u001b[0m\u001b[0;34m(\u001b[0m\u001b[0;34m)\u001b[0m\u001b[0;34m\u001b[0m\u001b[0;34m\u001b[0m\u001b[0m\n",
            "\u001b[0;32m/usr/lib/python3.10/http/client.py\u001b[0m in \u001b[0;36mbegin\u001b[0;34m(self)\u001b[0m\n\u001b[1;32m    316\u001b[0m         \u001b[0;31m# read until we get a non-100 response\u001b[0m\u001b[0;34m\u001b[0m\u001b[0;34m\u001b[0m\u001b[0m\n\u001b[1;32m    317\u001b[0m         \u001b[0;32mwhile\u001b[0m \u001b[0;32mTrue\u001b[0m\u001b[0;34m:\u001b[0m\u001b[0;34m\u001b[0m\u001b[0;34m\u001b[0m\u001b[0m\n\u001b[0;32m--> 318\u001b[0;31m             \u001b[0mversion\u001b[0m\u001b[0;34m,\u001b[0m \u001b[0mstatus\u001b[0m\u001b[0;34m,\u001b[0m \u001b[0mreason\u001b[0m \u001b[0;34m=\u001b[0m \u001b[0mself\u001b[0m\u001b[0;34m.\u001b[0m\u001b[0m_read_status\u001b[0m\u001b[0;34m(\u001b[0m\u001b[0;34m)\u001b[0m\u001b[0;34m\u001b[0m\u001b[0;34m\u001b[0m\u001b[0m\n\u001b[0m\u001b[1;32m    319\u001b[0m             \u001b[0;32mif\u001b[0m \u001b[0mstatus\u001b[0m \u001b[0;34m!=\u001b[0m \u001b[0mCONTINUE\u001b[0m\u001b[0;34m:\u001b[0m\u001b[0;34m\u001b[0m\u001b[0;34m\u001b[0m\u001b[0m\n\u001b[1;32m    320\u001b[0m                 \u001b[0;32mbreak\u001b[0m\u001b[0;34m\u001b[0m\u001b[0;34m\u001b[0m\u001b[0m\n",
            "\u001b[0;32m/usr/lib/python3.10/http/client.py\u001b[0m in \u001b[0;36m_read_status\u001b[0;34m(self)\u001b[0m\n\u001b[1;32m    277\u001b[0m \u001b[0;34m\u001b[0m\u001b[0m\n\u001b[1;32m    278\u001b[0m     \u001b[0;32mdef\u001b[0m \u001b[0m_read_status\u001b[0m\u001b[0;34m(\u001b[0m\u001b[0mself\u001b[0m\u001b[0;34m)\u001b[0m\u001b[0;34m:\u001b[0m\u001b[0;34m\u001b[0m\u001b[0;34m\u001b[0m\u001b[0m\n\u001b[0;32m--> 279\u001b[0;31m         \u001b[0mline\u001b[0m \u001b[0;34m=\u001b[0m \u001b[0mstr\u001b[0m\u001b[0;34m(\u001b[0m\u001b[0mself\u001b[0m\u001b[0;34m.\u001b[0m\u001b[0mfp\u001b[0m\u001b[0;34m.\u001b[0m\u001b[0mreadline\u001b[0m\u001b[0;34m(\u001b[0m\u001b[0m_MAXLINE\u001b[0m \u001b[0;34m+\u001b[0m \u001b[0;36m1\u001b[0m\u001b[0;34m)\u001b[0m\u001b[0;34m,\u001b[0m \u001b[0;34m\"iso-8859-1\"\u001b[0m\u001b[0;34m)\u001b[0m\u001b[0;34m\u001b[0m\u001b[0;34m\u001b[0m\u001b[0m\n\u001b[0m\u001b[1;32m    280\u001b[0m         \u001b[0;32mif\u001b[0m \u001b[0mlen\u001b[0m\u001b[0;34m(\u001b[0m\u001b[0mline\u001b[0m\u001b[0;34m)\u001b[0m \u001b[0;34m>\u001b[0m \u001b[0m_MAXLINE\u001b[0m\u001b[0;34m:\u001b[0m\u001b[0;34m\u001b[0m\u001b[0;34m\u001b[0m\u001b[0m\n\u001b[1;32m    281\u001b[0m             \u001b[0;32mraise\u001b[0m \u001b[0mLineTooLong\u001b[0m\u001b[0;34m(\u001b[0m\u001b[0;34m\"status line\"\u001b[0m\u001b[0;34m)\u001b[0m\u001b[0;34m\u001b[0m\u001b[0;34m\u001b[0m\u001b[0m\n",
            "\u001b[0;32m/usr/lib/python3.10/socket.py\u001b[0m in \u001b[0;36mreadinto\u001b[0;34m(self, b)\u001b[0m\n\u001b[1;32m    703\u001b[0m         \u001b[0;32mwhile\u001b[0m \u001b[0;32mTrue\u001b[0m\u001b[0;34m:\u001b[0m\u001b[0;34m\u001b[0m\u001b[0;34m\u001b[0m\u001b[0m\n\u001b[1;32m    704\u001b[0m             \u001b[0;32mtry\u001b[0m\u001b[0;34m:\u001b[0m\u001b[0;34m\u001b[0m\u001b[0;34m\u001b[0m\u001b[0m\n\u001b[0;32m--> 705\u001b[0;31m                 \u001b[0;32mreturn\u001b[0m \u001b[0mself\u001b[0m\u001b[0;34m.\u001b[0m\u001b[0m_sock\u001b[0m\u001b[0;34m.\u001b[0m\u001b[0mrecv_into\u001b[0m\u001b[0;34m(\u001b[0m\u001b[0mb\u001b[0m\u001b[0;34m)\u001b[0m\u001b[0;34m\u001b[0m\u001b[0;34m\u001b[0m\u001b[0m\n\u001b[0m\u001b[1;32m    706\u001b[0m             \u001b[0;32mexcept\u001b[0m \u001b[0mtimeout\u001b[0m\u001b[0;34m:\u001b[0m\u001b[0;34m\u001b[0m\u001b[0;34m\u001b[0m\u001b[0m\n\u001b[1;32m    707\u001b[0m                 \u001b[0mself\u001b[0m\u001b[0;34m.\u001b[0m\u001b[0m_timeout_occurred\u001b[0m \u001b[0;34m=\u001b[0m \u001b[0;32mTrue\u001b[0m\u001b[0;34m\u001b[0m\u001b[0;34m\u001b[0m\u001b[0m\n",
            "\u001b[0;32m/usr/lib/python3.10/ssl.py\u001b[0m in \u001b[0;36mrecv_into\u001b[0;34m(self, buffer, nbytes, flags)\u001b[0m\n\u001b[1;32m   1272\u001b[0m                   \u001b[0;34m\"non-zero flags not allowed in calls to recv_into() on %s\"\u001b[0m \u001b[0;34m%\u001b[0m\u001b[0;34m\u001b[0m\u001b[0;34m\u001b[0m\u001b[0m\n\u001b[1;32m   1273\u001b[0m                   self.__class__)\n\u001b[0;32m-> 1274\u001b[0;31m             \u001b[0;32mreturn\u001b[0m \u001b[0mself\u001b[0m\u001b[0;34m.\u001b[0m\u001b[0mread\u001b[0m\u001b[0;34m(\u001b[0m\u001b[0mnbytes\u001b[0m\u001b[0;34m,\u001b[0m \u001b[0mbuffer\u001b[0m\u001b[0;34m)\u001b[0m\u001b[0;34m\u001b[0m\u001b[0;34m\u001b[0m\u001b[0m\n\u001b[0m\u001b[1;32m   1275\u001b[0m         \u001b[0;32melse\u001b[0m\u001b[0;34m:\u001b[0m\u001b[0;34m\u001b[0m\u001b[0;34m\u001b[0m\u001b[0m\n\u001b[1;32m   1276\u001b[0m             \u001b[0;32mreturn\u001b[0m \u001b[0msuper\u001b[0m\u001b[0;34m(\u001b[0m\u001b[0;34m)\u001b[0m\u001b[0;34m.\u001b[0m\u001b[0mrecv_into\u001b[0m\u001b[0;34m(\u001b[0m\u001b[0mbuffer\u001b[0m\u001b[0;34m,\u001b[0m \u001b[0mnbytes\u001b[0m\u001b[0;34m,\u001b[0m \u001b[0mflags\u001b[0m\u001b[0;34m)\u001b[0m\u001b[0;34m\u001b[0m\u001b[0;34m\u001b[0m\u001b[0m\n",
            "\u001b[0;32m/usr/lib/python3.10/ssl.py\u001b[0m in \u001b[0;36mread\u001b[0;34m(self, len, buffer)\u001b[0m\n\u001b[1;32m   1128\u001b[0m         \u001b[0;32mtry\u001b[0m\u001b[0;34m:\u001b[0m\u001b[0;34m\u001b[0m\u001b[0;34m\u001b[0m\u001b[0m\n\u001b[1;32m   1129\u001b[0m             \u001b[0;32mif\u001b[0m \u001b[0mbuffer\u001b[0m \u001b[0;32mis\u001b[0m \u001b[0;32mnot\u001b[0m \u001b[0;32mNone\u001b[0m\u001b[0;34m:\u001b[0m\u001b[0;34m\u001b[0m\u001b[0;34m\u001b[0m\u001b[0m\n\u001b[0;32m-> 1130\u001b[0;31m                 \u001b[0;32mreturn\u001b[0m \u001b[0mself\u001b[0m\u001b[0;34m.\u001b[0m\u001b[0m_sslobj\u001b[0m\u001b[0;34m.\u001b[0m\u001b[0mread\u001b[0m\u001b[0;34m(\u001b[0m\u001b[0mlen\u001b[0m\u001b[0;34m,\u001b[0m \u001b[0mbuffer\u001b[0m\u001b[0;34m)\u001b[0m\u001b[0;34m\u001b[0m\u001b[0;34m\u001b[0m\u001b[0m\n\u001b[0m\u001b[1;32m   1131\u001b[0m             \u001b[0;32melse\u001b[0m\u001b[0;34m:\u001b[0m\u001b[0;34m\u001b[0m\u001b[0;34m\u001b[0m\u001b[0m\n\u001b[1;32m   1132\u001b[0m                 \u001b[0;32mreturn\u001b[0m \u001b[0mself\u001b[0m\u001b[0;34m.\u001b[0m\u001b[0m_sslobj\u001b[0m\u001b[0;34m.\u001b[0m\u001b[0mread\u001b[0m\u001b[0;34m(\u001b[0m\u001b[0mlen\u001b[0m\u001b[0;34m)\u001b[0m\u001b[0;34m\u001b[0m\u001b[0;34m\u001b[0m\u001b[0m\n",
            "\u001b[0;31mKeyboardInterrupt\u001b[0m: "
          ]
        }
      ]
    },
    {
      "cell_type": "code",
      "source": [
        "# Merge all json files into a single file.\n",
        "replies_output = []\n",
        "num_paragraphs = 5\n",
        "for art_idx in range(1, 6):\n",
        "  article = validation_data[art_idx]\n",
        "  paragraphs = article[\"paragraphs\"]\n",
        "  start_par_idx = 0\n",
        "  art_replies = []\n",
        "  while (start_par_idx < len(paragraphs)):\n",
        "    with open(f\"{art_idx}_{start_par_idx}_gpt3.5.json\", \"r\") as file:\n",
        "      art_replies.extend(json.load(file))\n",
        "    start_par_idx += num_paragraphs\n",
        "  \n",
        "  replies_output.append(art_replies)"
      ],
      "metadata": {
        "id": "rgCgPSojHGp5"
      },
      "execution_count": null,
      "outputs": []
    },
    {
      "cell_type": "code",
      "source": [
        "# Write the JSON array to a file\n",
        "with open(\"gpt4_replies_with_ref_context.json\", \"w\") as file:\n",
        "    json.dump(replies_output, file)"
      ],
      "metadata": {
        "id": "fUDm7aeZLbGx"
      },
      "execution_count": null,
      "outputs": []
    }
  ]
}